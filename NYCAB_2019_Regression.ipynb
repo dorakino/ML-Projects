{
  "nbformat": 4,
  "nbformat_minor": 0,
  "metadata": {
    "colab": {
      "name": "Latest_GD_DAMN_Regr.ipynb",
      "provenance": [],
      "collapsed_sections": [],
      "authorship_tag": "ABX9TyOWekwdLDJPWtz/DqznN/FQ",
      "include_colab_link": true
    },
    "kernelspec": {
      "name": "python3",
      "display_name": "Python 3"
    }
  },
  "cells": [
    {
      "cell_type": "markdown",
      "metadata": {
        "id": "view-in-github",
        "colab_type": "text"
      },
      "source": [
        "<a href=\"https://colab.research.google.com/github/pvh95/ML-Projects/blob/master/NYCAB_2019_Regression.ipynb\" target=\"_parent\"><img src=\"https://colab.research.google.com/assets/colab-badge.svg\" alt=\"Open In Colab\"/></a>"
      ]
    },
    {
      "cell_type": "markdown",
      "metadata": {
        "id": "tJ5n6O9jckNs",
        "colab_type": "text"
      },
      "source": [
        "## **Importing: Numpy, Pandas, Scikit-Learn, Seaborn, Matplotlib**"
      ]
    },
    {
      "cell_type": "code",
      "metadata": {
        "id": "J0ETegeufDFA",
        "colab_type": "code",
        "outputId": "95918092-92d0-4882-e542-4a684169a0c3",
        "colab": {
          "base_uri": "https://localhost:8080/",
          "height": 51
        }
      },
      "source": [
        "import math\n",
        "import numpy as np \n",
        "import pandas as pd\n",
        "import sklearn \n",
        "%matplotlib inline\n",
        "import matplotlib as mpl\n",
        "import matplotlib.pyplot as plt\n",
        "import seaborn as sns\n",
        "#mpl.rc('axes', labelsize=14)\n",
        "#mpl.rc('xtick', labelsize=12)\n",
        "#mpl.rc('ytick', labelsize=12)"
      ],
      "execution_count": 3,
      "outputs": [
        {
          "output_type": "stream",
          "text": [
            "/usr/local/lib/python3.6/dist-packages/statsmodels/tools/_testing.py:19: FutureWarning: pandas.util.testing is deprecated. Use the functions in the public API at pandas.testing instead.\n",
            "  import pandas.util.testing as tm\n"
          ],
          "name": "stderr"
        }
      ]
    },
    {
      "cell_type": "markdown",
      "metadata": {
        "id": "YRm0qy3sgSBQ",
        "colab_type": "text"
      },
      "source": [
        "# Uploading and Accessing the New York City Airbnb data from 2019, https://www.kaggle.com/dgomonov/new-york-city-airbnb-open-data"
      ]
    },
    {
      "cell_type": "code",
      "metadata": {
        "id": "RqfWBFnIfTv8",
        "colab_type": "code",
        "outputId": "6fec1c26-4844-471d-abf9-5dc853f05b77",
        "colab": {
          "base_uri": "https://localhost:8080/",
          "height": 122
        }
      },
      "source": [
        "from google.colab import files\n",
        "from google.colab import drive \n",
        "drive.mount('/content/gdrive')"
      ],
      "execution_count": 4,
      "outputs": [
        {
          "output_type": "stream",
          "text": [
            "Go to this URL in a browser: https://accounts.google.com/o/oauth2/auth?client_id=947318989803-6bn6qk8qdgf4n4g3pfee6491hc0brc4i.apps.googleusercontent.com&redirect_uri=urn%3aietf%3awg%3aoauth%3a2.0%3aoob&response_type=code&scope=email%20https%3a%2f%2fwww.googleapis.com%2fauth%2fdocs.test%20https%3a%2f%2fwww.googleapis.com%2fauth%2fdrive%20https%3a%2f%2fwww.googleapis.com%2fauth%2fdrive.photos.readonly%20https%3a%2f%2fwww.googleapis.com%2fauth%2fpeopleapi.readonly\n",
            "\n",
            "Enter your authorization code:\n",
            "··········\n",
            "Mounted at /content/gdrive\n"
          ],
          "name": "stdout"
        }
      ]
    },
    {
      "cell_type": "markdown",
      "metadata": {
        "id": "xSZiotG2nAlJ",
        "colab_type": "text"
      },
      "source": [
        "## **Looking at the Big Picture**\n",
        "Welcome to our NYC (Not **NY**iregyhaza **C**ity) AirBnB Price Prediction Modelling Group or as we like to call ourselves Goal Diggers (No, **NOT** Gold Diggers)  \n",
        "The data includes *latitude and longitude of properties, room_type, price, min nights, # of reviews, reviwews/month, host listing and days availabe for booking*.  \n",
        "\n",
        "Our target variable is the price. \n",
        "\n",
        "# **Framing the problem**\n",
        "1.   Business Objective: Prediction of any NYC Airbnb property price/night\n",
        "2.   The Frame:\n",
        "\n",
        "  *   A supervised learning task (as each instance comes with a price)\n",
        "  *   A regression (specifically multiple and univariate regression) task as having many attributes for making prediction and only trying to predict a single value, respectively \n",
        "  *   Offline learning task aka once the system is trained, it is put into use w/o learning it anymore \n",
        "\n",
        "3. Performance Measure (Cost Function for Regression): \n",
        "\n",
        "\n",
        "*   **RMSE (Root Mean Square Error)** is typical for regression tasks. The underlying idea behind is how much the system typically makes in its predictions, w/ a heigher weight for large errors:\n",
        "> $ RMSE(\\textbf{X}, f)= \\sqrt{\\dfrac{1}{n} \\sum_{i=1}^{n} \\, (f( \\textbf{x}_{i}) - y_{i})^2}$ \n",
        "\n",
        "  where n: # of instances in the data set; $\\textbf{x}_i$ is a vector of containing all the attributes excl. the dependent variables (ala price) of the $i^{th}$ instance; $y_{i}$ is the output for that instance;  $f$ is the prediction function $==>$ $\\hat{y_{i}} = f(\\textbf{x}_i)$\n",
        "*   **MAE (Mean Absolute Error)**   is another possibility cost function for a regression task: \n",
        "> $ MAE(\\textbf{X}, f)= \\dfrac{1}{n} \\sum_{i=1}^{n} \\, |f( \\textbf{x}_{i}) - y_{i}|$\n",
        "\n",
        "* Both RMSE and MAE are norms ($L_2$ and $L_1 \\, $ respectively}. \n",
        "Let's see which one is better for our purpose.   \n",
        "\n",
        "\n",
        "\n",
        "\n",
        "\n",
        "\n",
        "\n",
        "\n",
        "\n",
        "\n",
        "\n",
        "\n",
        "\n",
        "\n",
        "\n",
        "\n",
        "\n",
        "\n"
      ]
    },
    {
      "cell_type": "code",
      "metadata": {
        "id": "aIta2Bi8jZfx",
        "colab_type": "code",
        "colab": {}
      },
      "source": [
        "nycAB_orig = pd.read_csv('gdrive/My Drive/ELTE-GoalDiggers_DAMN/NYC_AB_2019.csv')"
      ],
      "execution_count": 0,
      "outputs": []
    },
    {
      "cell_type": "code",
      "metadata": {
        "id": "88V5g0bpnTzH",
        "colab_type": "code",
        "colab": {
          "base_uri": "https://localhost:8080/",
          "height": 408
        },
        "outputId": "efdd1b6f-49dd-4a4e-f384-87522471772e"
      },
      "source": [
        "nycAB_orig.info()"
      ],
      "execution_count": 5,
      "outputs": [
        {
          "output_type": "stream",
          "text": [
            "<class 'pandas.core.frame.DataFrame'>\n",
            "RangeIndex: 48895 entries, 0 to 48894\n",
            "Data columns (total 16 columns):\n",
            " #   Column                          Non-Null Count  Dtype  \n",
            "---  ------                          --------------  -----  \n",
            " 0   id                              48895 non-null  int64  \n",
            " 1   name                            48879 non-null  object \n",
            " 2   host_id                         48895 non-null  int64  \n",
            " 3   host_name                       48874 non-null  object \n",
            " 4   neighbourhood_group             48895 non-null  object \n",
            " 5   neighbourhood                   48895 non-null  object \n",
            " 6   latitude                        48895 non-null  float64\n",
            " 7   longitude                       48895 non-null  float64\n",
            " 8   room_type                       48895 non-null  object \n",
            " 9   price                           48895 non-null  int64  \n",
            " 10  minimum_nights                  48895 non-null  int64  \n",
            " 11  number_of_reviews               48895 non-null  int64  \n",
            " 12  last_review                     38843 non-null  object \n",
            " 13  reviews_per_month               38843 non-null  float64\n",
            " 14  calculated_host_listings_count  48895 non-null  int64  \n",
            " 15  availability_365                48895 non-null  int64  \n",
            "dtypes: float64(3), int64(7), object(6)\n",
            "memory usage: 6.0+ MB\n"
          ],
          "name": "stdout"
        }
      ]
    },
    {
      "cell_type": "code",
      "metadata": {
        "id": "2qeJVmbunskx",
        "colab_type": "code",
        "colab": {}
      },
      "source": [
        "nycAB_orig.describe()"
      ],
      "execution_count": 0,
      "outputs": []
    },
    {
      "cell_type": "code",
      "metadata": {
        "id": "L2BivFYChw5W",
        "colab_type": "code",
        "colab": {
          "base_uri": "https://localhost:8080/",
          "height": 119
        },
        "outputId": "c9a16688-fde5-4a6a-bde8-634f5a8b9e1a"
      },
      "source": [
        "nycAB_orig['neighbourhood_group'].value_counts()"
      ],
      "execution_count": 7,
      "outputs": [
        {
          "output_type": "execute_result",
          "data": {
            "text/plain": [
              "Manhattan        21661\n",
              "Brooklyn         20104\n",
              "Queens            5666\n",
              "Bronx             1091\n",
              "Staten Island      373\n",
              "Name: neighbourhood_group, dtype: int64"
            ]
          },
          "metadata": {
            "tags": []
          },
          "execution_count": 7
        }
      ]
    },
    {
      "cell_type": "code",
      "metadata": {
        "id": "UEbBoxuoxOX9",
        "colab_type": "code",
        "colab": {
          "base_uri": "https://localhost:8080/",
          "height": 85
        },
        "outputId": "eaaef234-1714-463c-b516-0f972662e083"
      },
      "source": [
        "nycAB_orig[\"room_type\"].value_counts()"
      ],
      "execution_count": 8,
      "outputs": [
        {
          "output_type": "execute_result",
          "data": {
            "text/plain": [
              "Entire home/apt    25409\n",
              "Private room       22326\n",
              "Shared room         1160\n",
              "Name: room_type, dtype: int64"
            ]
          },
          "metadata": {
            "tags": []
          },
          "execution_count": 8
        }
      ]
    },
    {
      "cell_type": "code",
      "metadata": {
        "id": "msHNp3R03h-Q",
        "colab_type": "code",
        "colab": {}
      },
      "source": [
        "nycAB_orig.head()"
      ],
      "execution_count": 0,
      "outputs": []
    },
    {
      "cell_type": "markdown",
      "metadata": {
        "id": "SXe2JAXBWdv_",
        "colab_type": "text"
      },
      "source": [
        "# **Framing the problem** (cont.)\n",
        "*   The plot shows tail-heaviness at the right end, that is, in our context, there are very few outliers $==>$ **RMSE** is the preferred choice for a cost function/performance measurement tool  \n",
        "\n",
        "# **A sneak peak into the data structure**\n",
        "*   head() and info() method (see above): \n",
        "  *   Each row depicts a property with a unique id \n",
        "  *   16 features, 48895 instances\n",
        "  *   6 attributes are text, all other are numerical\n",
        "  *   In the info() method, it can be clearly seen that *last_review* and *reviews_per_month* have more than 10.052 missing entries => should treat this later on. \n",
        "\n",
        "*   describe() method (see above): \n",
        "  *   Some descriptive statisitics could be read for each numerical feature \n",
        "\n",
        "\n",
        "\n",
        "\n",
        "\n"
      ]
    },
    {
      "cell_type": "code",
      "metadata": {
        "id": "bvCiGn-uZo4T",
        "colab_type": "code",
        "colab": {}
      },
      "source": [
        "nycAB_orig.hist(bins=30, figsize=(30,22))"
      ],
      "execution_count": 0,
      "outputs": []
    },
    {
      "cell_type": "code",
      "metadata": {
        "id": "TuNtrrl-fhkd",
        "colab_type": "code",
        "colab": {}
      },
      "source": [
        "logPrice = np.log(nycAB_orig[\"price\"])\n",
        "plt.figure(figsize=(10,7))\n",
        "sns.set(style=\"whitegrid\")\n",
        "ax = sns.boxplot(x=logPrice)"
      ],
      "execution_count": 0,
      "outputs": []
    },
    {
      "cell_type": "code",
      "metadata": {
        "id": "4_zfHl7hfMmn",
        "colab_type": "code",
        "colab": {}
      },
      "source": [
        "sns.set(style=\"whitegrid\")\n",
        "sns.distplot(nycAB_orig[\"price\"], bins = 30)"
      ],
      "execution_count": 0,
      "outputs": []
    },
    {
      "cell_type": "code",
      "metadata": {
        "id": "KM48nFp4fpPK",
        "colab_type": "code",
        "colab": {}
      },
      "source": [
        "from sklearn import preprocessing\n",
        "from sklearn.preprocessing import PowerTransformer\n",
        "trialdf = pd.DataFrame(nycAB_orig, columns= [\"price\"])\n",
        "pt = preprocessing.PowerTransformer(method='yeo-johnson')\n",
        "modified_price = pt.fit_transform(trialdf)\n",
        "sns.distplot(modified_price, bins = 30)  #With Yeo-Johnson transformation our price variable now looks more like a Gaussaian distro"
      ],
      "execution_count": 0,
      "outputs": []
    },
    {
      "cell_type": "code",
      "metadata": {
        "id": "J14GCZJKxwbq",
        "colab_type": "code",
        "colab": {
          "base_uri": "https://localhost:8080/",
          "height": 306
        },
        "outputId": "844afb95-3e0f-4a0c-86b1-8d20c9eb7a1d"
      },
      "source": [
        "nycAB_orig.isnull().sum()"
      ],
      "execution_count": 76,
      "outputs": [
        {
          "output_type": "execute_result",
          "data": {
            "text/plain": [
              "id                                    0\n",
              "name                                 16\n",
              "host_id                               0\n",
              "host_name                            21\n",
              "neighbourhood_group                   0\n",
              "neighbourhood                         0\n",
              "latitude                              0\n",
              "longitude                             0\n",
              "room_type                             0\n",
              "price                                 0\n",
              "minimum_nights                        0\n",
              "number_of_reviews                     0\n",
              "last_review                       10052\n",
              "reviews_per_month                 10052\n",
              "calculated_host_listings_count        0\n",
              "availability_365                      0\n",
              "dtype: int64"
            ]
          },
          "metadata": {
            "tags": []
          },
          "execution_count": 76
        }
      ]
    },
    {
      "cell_type": "markdown",
      "metadata": {
        "id": "vy9f03Oh4G1k",
        "colab_type": "text"
      },
      "source": [
        "# **A sneak peak into the data structure** (cont.)\n",
        "*   Histogram (what can be noticed): \n",
        "  *   Most histograms tends to skewed to the left, aka tail-heavy at the right end $-->$ Try to transform them to have more bell-shaped-like distro.\n",
        "  *   Features gave wide range of scales. Feature scaling is needed before feeding into the system. \n",
        "  *   latitude and longitude histograms' resemble a normal-like distribution $-->$ Properties concentrate on more of a central location of NYC (like Manhattan, Brooklyn) - it will be seen through data visulaization, too.    \n",
        "\n",
        "\n",
        "\n"
      ]
    },
    {
      "cell_type": "markdown",
      "metadata": {
        "id": "9sqiOobv6K2g",
        "colab_type": "text"
      },
      "source": [
        "# **Creating a Train, Validation, Test Set**\n",
        "*   Train/Test = 80/20\n",
        "*   Train ---> TrainReduced/Valid = 80/20\n",
        "*   Want to make sure our test set is representative of the universe so a good idea to implement **stratified sampling**. In other words, the data points are allocated to their respective homogenous subgroups called strata, and the appropirate # of data entries are sampled from each stratum. This way, representativeness can be ensured.\n",
        "*   Doing Stratified sampling according to *neighboorhood_group* or *room_type*\n",
        "*   Creating strata based on a better representative feature \n",
        "\n",
        "\n",
        "\n",
        "\n"
      ]
    },
    {
      "cell_type": "code",
      "metadata": {
        "id": "dibX-0my8mh-",
        "colab_type": "code",
        "colab": {}
      },
      "source": [
        "sns.set(style=\"whitegrid\")\n",
        "sns.countplot(nycAB_orig['neighbourhood_group'], palette=\"bright\")\n",
        "fig = plt.gcf()\n",
        "fig.set_size_inches(6,6)\n",
        "plt.title('Neighbourhood Group')\n",
        "nycAB_orig[\"neighbourhood_group\"].value_counts() / len(nycAB_orig)"
      ],
      "execution_count": 0,
      "outputs": []
    },
    {
      "cell_type": "code",
      "metadata": {
        "id": "krufwmXljdac",
        "colab_type": "code",
        "colab": {}
      },
      "source": [
        "sns.set(style=\"whitegrid\")\n",
        "sns.countplot(nycAB_orig['room_type'], palette=\"bright\")\n",
        "fig = plt.gcf()\n",
        "fig.set_size_inches(6,6)\n",
        "plt.title('Room Type')\n",
        "nycAB_orig[\"room_type\"].value_counts() / len(nycAB_orig)"
      ],
      "execution_count": 0,
      "outputs": []
    },
    {
      "cell_type": "markdown",
      "metadata": {
        "id": "RNE7Q-jk3krG",
        "colab_type": "text"
      },
      "source": [
        "### Creating Train and Test Set "
      ]
    },
    {
      "cell_type": "code",
      "metadata": {
        "id": "KYPi6FVT8Ayb",
        "colab_type": "code",
        "outputId": "37f2ee79-56a5-4d45-880a-172da9385a0e",
        "colab": {
          "base_uri": "https://localhost:8080/",
          "height": 85
        }
      },
      "source": [
        "from sklearn.model_selection import StratifiedShuffleSplit\n",
        "\n",
        "randState = 69  ## initialize random state for replicability \n",
        "split = StratifiedShuffleSplit(n_splits=1, test_size=0.2, random_state= randState)\n",
        "\n",
        "#for train_index, test_index in split.split(nycAB_orig, nycAB_orig[\"neighbourhood_group\"]):\n",
        "for train_index, test_index in split.split(nycAB_orig, nycAB_orig[\"room_type\"]):\n",
        "  stratified_train_set_trial = nycAB_orig.loc[train_index]\n",
        "  stratified_test_set_trial = nycAB_orig.loc[test_index]\n",
        "\n",
        "#stratified_test_set_trial[\"neighbourhood_group\"].value_counts() / len(stratified_test_set_trial)  #Checking the distro of test set \n",
        "stratified_test_set_trial[\"room_type\"].value_counts() / len(stratified_test_set_trial)  #Checking the distro of test set "
      ],
      "execution_count": 8,
      "outputs": [
        {
          "output_type": "execute_result",
          "data": {
            "text/plain": [
              "Entire home/apt    0.519685\n",
              "Private room       0.456591\n",
              "Shared room        0.023724\n",
              "Name: room_type, dtype: float64"
            ]
          },
          "metadata": {
            "tags": []
          },
          "execution_count": 8
        }
      ]
    },
    {
      "cell_type": "code",
      "metadata": {
        "id": "1E4vP1MY87b4",
        "colab_type": "code",
        "colab": {
          "base_uri": "https://localhost:8080/",
          "height": 119
        },
        "outputId": "cddd8a72-18eb-48a6-dc7d-aa6990654389"
      },
      "source": [
        "stratified_test_set_trial[\"neighbourhood_group\"].value_counts() / len(stratified_test_set_trial)  #Checking the distro of test set "
      ],
      "execution_count": 9,
      "outputs": [
        {
          "output_type": "execute_result",
          "data": {
            "text/plain": [
              "Manhattan        0.443706\n",
              "Brooklyn         0.414460\n",
              "Queens           0.112793\n",
              "Bronx            0.021372\n",
              "Staten Island    0.007669\n",
              "Name: neighbourhood_group, dtype: float64"
            ]
          },
          "metadata": {
            "tags": []
          },
          "execution_count": 9
        }
      ]
    },
    {
      "cell_type": "code",
      "metadata": {
        "id": "XtIwJj0R4ViV",
        "colab_type": "code",
        "outputId": "a65bb53f-49fe-4668-b246-72e56ef4e36e",
        "colab": {
          "base_uri": "https://localhost:8080/",
          "height": 119
        }
      },
      "source": [
        "from sklearn.model_selection import StratifiedShuffleSplit\n",
        "\n",
        "randState = 69  ## initialize random state for replicability \n",
        "split = StratifiedShuffleSplit(n_splits=1, test_size=0.2, random_state= randState)\n",
        "\n",
        "for train_index, test_index in split.split(nycAB_orig, nycAB_orig[\"neighbourhood_group\"]):\n",
        "#for train_index, test_index in split.split(nycAB_orig, nycAB_orig[\"room_type\"]):\n",
        "  stratified_train_set = nycAB_orig.loc[train_index]\n",
        "  stratified_test_set = nycAB_orig.loc[test_index]\n",
        "\n",
        "stratified_test_set[\"neighbourhood_group\"].value_counts() / len(stratified_test_set)  #Checking the distro of test set \n",
        "#stratified_test_set[\"room_type\"].value_counts() / len(stratified_test_set)  #Checking the distro of test set "
      ],
      "execution_count": 10,
      "outputs": [
        {
          "output_type": "execute_result",
          "data": {
            "text/plain": [
              "Manhattan        0.442990\n",
              "Brooklyn         0.411187\n",
              "Queens           0.115861\n",
              "Bronx            0.022293\n",
              "Staten Island    0.007669\n",
              "Name: neighbourhood_group, dtype: float64"
            ]
          },
          "metadata": {
            "tags": []
          },
          "execution_count": 10
        }
      ]
    },
    {
      "cell_type": "code",
      "metadata": {
        "id": "lJ7cB3XQ6NvI",
        "colab_type": "code",
        "colab": {
          "base_uri": "https://localhost:8080/",
          "height": 85
        },
        "outputId": "85333eec-46c7-404b-9a5b-03f897f60556"
      },
      "source": [
        "stratified_test_set[\"room_type\"].value_counts() / len(stratified_test_set)"
      ],
      "execution_count": 18,
      "outputs": [
        {
          "output_type": "execute_result",
          "data": {
            "text/plain": [
              "Entire home/apt    0.513140\n",
              "Private room       0.461295\n",
              "Shared room        0.025565\n",
              "Name: room_type, dtype: float64"
            ]
          },
          "metadata": {
            "tags": []
          },
          "execution_count": 18
        }
      ]
    },
    {
      "cell_type": "code",
      "metadata": {
        "id": "DqIltdkn9umO",
        "colab_type": "code",
        "colab": {
          "base_uri": "https://localhost:8080/",
          "height": 119
        },
        "outputId": "bfbb5d8c-0335-4583-8066-f68d77e74dff"
      },
      "source": [
        "(stratified_test_set_trial[\"neighbourhood_group\"].value_counts() / len(stratified_test_set_trial)) / (stratified_test_set[\"neighbourhood_group\"].value_counts() / len(stratified_test_set)) - 1"
      ],
      "execution_count": 19,
      "outputs": [
        {
          "output_type": "execute_result",
          "data": {
            "text/plain": [
              "Manhattan        0.001616\n",
              "Brooklyn         0.007958\n",
              "Queens          -0.026478\n",
              "Bronx           -0.041284\n",
              "Staten Island    0.000000\n",
              "Name: neighbourhood_group, dtype: float64"
            ]
          },
          "metadata": {
            "tags": []
          },
          "execution_count": 19
        }
      ]
    },
    {
      "cell_type": "code",
      "metadata": {
        "id": "aVLms9rP-UJD",
        "colab_type": "code",
        "colab": {
          "base_uri": "https://localhost:8080/",
          "height": 85
        },
        "outputId": "2d90298d-790c-4578-d0c1-54136c21dbf5"
      },
      "source": [
        "(stratified_test_set_trial[\"room_type\"].value_counts() / len(stratified_test_set_trial)) / (stratified_test_set[\"room_type\"].value_counts() / len(stratified_test_set)) -1"
      ],
      "execution_count": 20,
      "outputs": [
        {
          "output_type": "execute_result",
          "data": {
            "text/plain": [
              "Entire home/apt    0.012754\n",
              "Private room      -0.010197\n",
              "Shared room       -0.072000\n",
              "Name: room_type, dtype: float64"
            ]
          },
          "metadata": {
            "tags": []
          },
          "execution_count": 20
        }
      ]
    },
    {
      "cell_type": "markdown",
      "metadata": {
        "id": "e9V2TEd8UAK-",
        "colab_type": "text"
      },
      "source": [
        "Should base our stratified sampling on *neighbourhood_group*, the differences are more distributed among the categories within neighboor_hood_group than in the case of *room_type*"
      ]
    },
    {
      "cell_type": "code",
      "metadata": {
        "id": "JxiKMAi58FqV",
        "colab_type": "code",
        "outputId": "59fc6a4a-472d-4a43-9df2-20f8f45b7a2f",
        "colab": {
          "base_uri": "https://localhost:8080/",
          "height": 34
        }
      },
      "source": [
        "len(stratified_train_set)"
      ],
      "execution_count": 21,
      "outputs": [
        {
          "output_type": "execute_result",
          "data": {
            "text/plain": [
              "39116"
            ]
          },
          "metadata": {
            "tags": []
          },
          "execution_count": 21
        }
      ]
    },
    {
      "cell_type": "code",
      "metadata": {
        "id": "DyihBWGY8AE-",
        "colab_type": "code",
        "colab": {}
      },
      "source": [
        "dummyIndex = pd.Index(np.arange(len(stratified_train_set)))\n",
        "dummyStrat_trainSet = stratified_train_set.set_index(dummyIndex)   #Creating a DummyTrainSet by setting a new index that is in-order, important when it comes to do stratified "
      ],
      "execution_count": 0,
      "outputs": []
    },
    {
      "cell_type": "markdown",
      "metadata": {
        "colab_type": "text",
        "id": "T0i75kxSPEfL"
      },
      "source": [
        "### Creating Reduced Train and Validation Set "
      ]
    },
    {
      "cell_type": "code",
      "metadata": {
        "id": "qJ3UdaOy3a8U",
        "colab_type": "code",
        "outputId": "c430a2ce-3bc0-496c-8b40-13465977413c",
        "colab": {
          "base_uri": "https://localhost:8080/",
          "height": 119
        }
      },
      "source": [
        "for trainRed_index, valid_index in split.split(dummyStrat_trainSet, dummyStrat_trainSet[\"neighbourhood_group\"]):\n",
        "#for trainRed_index, valid_index in split.split(dummyStrat_trainSet, dummyStrat_trainSet[\"room_type\"]):\n",
        "  stratified_trainRed_set = dummyStrat_trainSet.loc[trainRed_index]\n",
        "  stratified_valid_set = dummyStrat_trainSet.loc[valid_index]\n",
        "\n",
        "stratified_valid_set[\"neighbourhood_group\"].value_counts() / len(stratified_valid_set)  #Checking the distro of test set\n",
        "#stratified_valid_set[\"room_type\"].value_counts() / len(stratified_valid_set)  #Checking the distro of test set  "
      ],
      "execution_count": 12,
      "outputs": [
        {
          "output_type": "execute_result",
          "data": {
            "text/plain": [
              "Manhattan        0.442996\n",
              "Brooklyn         0.411171\n",
              "Queens           0.115925\n",
              "Bronx            0.022367\n",
              "Staten Island    0.007541\n",
              "Name: neighbourhood_group, dtype: float64"
            ]
          },
          "metadata": {
            "tags": []
          },
          "execution_count": 12
        }
      ]
    },
    {
      "cell_type": "markdown",
      "metadata": {
        "id": "U-fEbEQTAwQh",
        "colab_type": "text"
      },
      "source": [
        "# **Creating a Test Set** (cont.)\n",
        "*   3 strata --- Entire home/apt, Private room , Shared room\n",
        "*   Comparing the test set with the universe, it could be seen we achived our goals of having very similar location distribution in the test set compared to the original data set $==>$ representiveness is ensured. \n",
        "*   After creating test set, we put it on hold until doing fine-tuning on training set\n",
        "*   From now on, we are gonna exploring training set, but before that the training set needs to be copied \n",
        "\n"
      ]
    },
    {
      "cell_type": "code",
      "metadata": {
        "id": "NkAfN_K3PG8e",
        "colab_type": "code",
        "colab": {}
      },
      "source": [
        "nycAB = stratified_train_set.copy()  #Creating a copy of the training set and gonna tinker the copied version "
      ],
      "execution_count": 0,
      "outputs": []
    },
    {
      "cell_type": "markdown",
      "metadata": {
        "id": "sGYwtNC--Rw2",
        "colab_type": "text"
      },
      "source": [
        "# **Looking at the Data Structure Again and Now Tinkering it** \n",
        "1.   Visualizations\n",
        "2.   Sepaerating the predictors and the target variable as we would not want to apply the same transformations to the predictors and target values\n",
        "3.   Now we are allowed to make modifications/transformations/adjustments on the (copied) training set \n",
        "4.  Data Cleaning and Imputatuion \n",
        "5.   Feature Engineering (Feature Selection, Feature Extraction) \n",
        "6.   Transoformation Scaling \n",
        "\n",
        "\n",
        "\n"
      ]
    },
    {
      "cell_type": "code",
      "metadata": {
        "id": "Zr3F7QSn7rke",
        "colab_type": "code",
        "colab": {
          "base_uri": "https://localhost:8080/",
          "height": 408
        },
        "outputId": "693cb088-1f40-4874-faa1-4f7c3b04b76a"
      },
      "source": [
        "nycAB.info()"
      ],
      "execution_count": 85,
      "outputs": [
        {
          "output_type": "stream",
          "text": [
            "<class 'pandas.core.frame.DataFrame'>\n",
            "Int64Index: 39116 entries, 8098 to 41415\n",
            "Data columns (total 16 columns):\n",
            " #   Column                          Non-Null Count  Dtype  \n",
            "---  ------                          --------------  -----  \n",
            " 0   id                              39116 non-null  int64  \n",
            " 1   name                            39103 non-null  object \n",
            " 2   host_id                         39116 non-null  int64  \n",
            " 3   host_name                       39102 non-null  object \n",
            " 4   neighbourhood_group             39116 non-null  object \n",
            " 5   neighbourhood                   39116 non-null  object \n",
            " 6   latitude                        39116 non-null  float64\n",
            " 7   longitude                       39116 non-null  float64\n",
            " 8   room_type                       39116 non-null  object \n",
            " 9   price                           39116 non-null  int64  \n",
            " 10  minimum_nights                  39116 non-null  int64  \n",
            " 11  number_of_reviews               39116 non-null  int64  \n",
            " 12  last_review                     31054 non-null  object \n",
            " 13  reviews_per_month               31054 non-null  float64\n",
            " 14  calculated_host_listings_count  39116 non-null  int64  \n",
            " 15  availability_365                39116 non-null  int64  \n",
            "dtypes: float64(3), int64(7), object(6)\n",
            "memory usage: 5.1+ MB\n"
          ],
          "name": "stdout"
        }
      ]
    },
    {
      "cell_type": "code",
      "metadata": {
        "id": "NIjlzHJqW8v6",
        "colab_type": "code",
        "colab": {}
      },
      "source": [
        "nycAB.describe()"
      ],
      "execution_count": 0,
      "outputs": []
    },
    {
      "cell_type": "code",
      "metadata": {
        "id": "nyBrR-UOcHLj",
        "colab_type": "code",
        "outputId": "99b33e41-da1a-4f37-9883-8c179b5bb4d9",
        "colab": {
          "base_uri": "https://localhost:8080/",
          "height": 68
        }
      },
      "source": [
        "print(f\"Average of price per night : ${nycAB.price.mean():.2f}\")\n",
        "print(f\"Maximum price per night : ${nycAB.price.max()}\")\n",
        "print(f\"Minimum price per night : ${nycAB.price.min()}\") #There are some free houses "
      ],
      "execution_count": 87,
      "outputs": [
        {
          "output_type": "stream",
          "text": [
            "Average of price per night : $152.30\n",
            "Maximum price per night : $10000\n",
            "Minimum price per night : $0\n"
          ],
          "name": "stdout"
        }
      ]
    },
    {
      "cell_type": "markdown",
      "metadata": {
        "id": "eUlm1MkrB6t2",
        "colab_type": "text"
      },
      "source": [
        "# Visualizing the data \n",
        "*   Try to visualize train set properties on a scatter plot based on their longitude and latitude data for discovering high-density areas and how prices vary in those areas \n",
        "\n"
      ]
    },
    {
      "cell_type": "code",
      "metadata": {
        "id": "V4SXNCaJZ20a",
        "colab_type": "code",
        "colab": {}
      },
      "source": [
        "nycAB.hist(bins=30, figsize=(30,22))"
      ],
      "execution_count": 0,
      "outputs": []
    },
    {
      "cell_type": "markdown",
      "metadata": {
        "id": "nj2WB94MToCi",
        "colab_type": "text"
      },
      "source": [
        "Latitude and Longitude follows a kinda normal distributions $==>$ properties concantrated around on those areas mostly (Manhattan and Brooklyn as we would see later on)"
      ]
    },
    {
      "cell_type": "code",
      "metadata": {
        "id": "worRlQ7qJq5Y",
        "colab_type": "code",
        "colab": {}
      },
      "source": [
        "sns.countplot(nycAB['neighbourhood_group'], palette=\"bright\")\n",
        "fig = plt.gcf()\n",
        "fig.set_size_inches(7,7)\n",
        "plt.title('Neighbourhood Group')"
      ],
      "execution_count": 0,
      "outputs": []
    },
    {
      "cell_type": "code",
      "metadata": {
        "id": "eH3P-_6jgQ4A",
        "colab_type": "code",
        "colab": {}
      },
      "source": [
        "plt.figure(figsize=(10,10))\n",
        "sns.boxplot(x='neighbourhood_group',y='availability_365',palette='bright', data=nycAB)\n",
        "plt.title('Neighbourhood Group and Availability')"
      ],
      "execution_count": 0,
      "outputs": []
    },
    {
      "cell_type": "code",
      "metadata": {
        "id": "i2GUYKVhaTD3",
        "colab_type": "code",
        "colab": {}
      },
      "source": [
        "top5Neighbourhood = nycAB.neighbourhood.value_counts().head(5)\n",
        "sns.barplot(x = top5Neighbourhood.index, y = top5Neighbourhood.values, palette = 'bright')\n",
        "fig = plt.gcf()\n",
        "fig.set_size_inches(10,7)\n",
        "plt.title('TOP5 Neighbourhood')"
      ],
      "execution_count": 0,
      "outputs": []
    },
    {
      "cell_type": "code",
      "metadata": {
        "id": "1ZA23XGnLDfy",
        "colab_type": "code",
        "colab": {}
      },
      "source": [
        "sns.countplot(nycAB['room_type'], palette=\"bright\")\n",
        "fig = plt.gcf()\n",
        "fig.set_size_inches(7,7)\n",
        "plt.title('Room Type')"
      ],
      "execution_count": 0,
      "outputs": []
    },
    {
      "cell_type": "code",
      "metadata": {
        "id": "leLoeQRCMAe0",
        "colab_type": "code",
        "colab": {}
      },
      "source": [
        "sns.countplot(nycAB['room_type'], hue=nycAB['neighbourhood_group'], palette=\"bright\")\n",
        "fig = plt.gcf()\n",
        "fig.set_size_inches(15,8)\n",
        "plt.title('Room Type Based on Neighboorhood Group')"
      ],
      "execution_count": 0,
      "outputs": []
    },
    {
      "cell_type": "code",
      "metadata": {
        "id": "oxZUyj6pQrrT",
        "colab_type": "code",
        "colab": {}
      },
      "source": [
        "plt.figure(figsize=(10,10))\n",
        "sns.scatterplot(x = nycAB['longitude'], y= nycAB['latitude'], hue=nycAB['neighbourhood_group'], palette='bright')\n",
        "plt.show()"
      ],
      "execution_count": 0,
      "outputs": []
    },
    {
      "cell_type": "code",
      "metadata": {
        "id": "c-ZKB5hNityf",
        "colab_type": "code",
        "colab": {}
      },
      "source": [
        "plt.figure(figsize=(10,10))\n",
        "sns.scatterplot(x = nycAB['longitude'], y= nycAB['latitude'], hue=nycAB['room_type'], palette='colorblind')\n",
        "plt.show()"
      ],
      "execution_count": 0,
      "outputs": []
    },
    {
      "cell_type": "code",
      "metadata": {
        "id": "KhBKMnZ5Q6ib",
        "colab_type": "code",
        "colab": {}
      },
      "source": [
        "nycAB.plot(kind=\"scatter\", x=\"longitude\", y=\"latitude\", alpha=0.3, figsize=(15,10.5), title = \"Log price distribution over NYC AirBnb\",\n",
        "    c=np.log(nycAB['price']), cmap=plt.get_cmap(\"jet\"),  colorbar=True, sharex=False)"
      ],
      "execution_count": 0,
      "outputs": []
    },
    {
      "cell_type": "markdown",
      "metadata": {
        "id": "mGibhDM2lt6b",
        "colab_type": "text"
      },
      "source": [
        "# **Discover Correlations**\n",
        "*   Our interest is how price correlates w/ other features \n",
        "*   Even though it's important to measure correlation, it may miss capturing non-linear realtionships between attributes \n",
        "\n",
        "\n",
        "\n",
        "\n"
      ]
    },
    {
      "cell_type": "code",
      "metadata": {
        "id": "u33NHCe3lvBq",
        "colab_type": "code",
        "colab": {
          "base_uri": "https://localhost:8080/",
          "height": 204
        },
        "outputId": "167e891f-1804-4914-b207-2a84f270a7e5"
      },
      "source": [
        "corrMtx = nycAB.corr()\n",
        "corrMtx[\"price\"].sort_values(ascending=False)"
      ],
      "execution_count": 37,
      "outputs": [
        {
          "output_type": "execute_result",
          "data": {
            "text/plain": [
              "price                             1.000000\n",
              "availability_365                  0.086939\n",
              "calculated_host_listings_count    0.060829\n",
              "latitude                          0.035996\n",
              "minimum_nights                    0.028761\n",
              "host_id                           0.016844\n",
              "id                                0.012782\n",
              "reviews_per_month                -0.033678\n",
              "number_of_reviews                -0.049548\n",
              "longitude                        -0.161296\n",
              "Name: price, dtype: float64"
            ]
          },
          "metadata": {
            "tags": []
          },
          "execution_count": 37
        }
      ]
    },
    {
      "cell_type": "code",
      "metadata": {
        "id": "3CfetcnwIhQ6",
        "colab_type": "code",
        "colab": {}
      },
      "source": [
        "plt.figure(figsize=(15,8))\n",
        "sns.heatmap(corrMtx, annot=True, linewidths=0.1, cmap='Reds')\n",
        "plt.title('Correlation Matrix Heatmap')"
      ],
      "execution_count": 0,
      "outputs": []
    },
    {
      "cell_type": "markdown",
      "metadata": {
        "id": "UjHQSNCAV8Rn",
        "colab_type": "text"
      },
      "source": [
        "# **Experimanting with attributes**"
      ]
    },
    {
      "cell_type": "code",
      "metadata": {
        "id": "6ZBlZiH0U9qv",
        "colab_type": "code",
        "colab": {}
      },
      "source": [
        "nycAB['month'] = nycAB['number_of_reviews']/nycAB['reviews_per_month']"
      ],
      "execution_count": 0,
      "outputs": []
    },
    {
      "cell_type": "code",
      "metadata": {
        "id": "EaJ6hjLGYHkU",
        "colab_type": "code",
        "colab": {
          "base_uri": "https://localhost:8080/",
          "height": 221
        },
        "outputId": "60bc8f34-b8b8-414d-f981-cf66ae147ba9"
      },
      "source": [
        "corrMtx = nycAB.corr()\n",
        "corrMtx[\"price\"].sort_values(ascending=False)"
      ],
      "execution_count": 40,
      "outputs": [
        {
          "output_type": "execute_result",
          "data": {
            "text/plain": [
              "price                             1.000000\n",
              "availability_365                  0.086939\n",
              "calculated_host_listings_count    0.060829\n",
              "latitude                          0.035996\n",
              "minimum_nights                    0.028761\n",
              "host_id                           0.016844\n",
              "id                                0.012782\n",
              "month                             0.006749\n",
              "reviews_per_month                -0.033678\n",
              "number_of_reviews                -0.049548\n",
              "longitude                        -0.161296\n",
              "Name: price, dtype: float64"
            ]
          },
          "metadata": {
            "tags": []
          },
          "execution_count": 40
        }
      ]
    },
    {
      "cell_type": "code",
      "metadata": {
        "id": "UmjUhOFXZuxb",
        "colab_type": "code",
        "colab": {}
      },
      "source": [
        "nycAB.drop(['month'], axis=1, inplace=True) #length of month when reviewd took place is irrelevant so drop it "
      ],
      "execution_count": 0,
      "outputs": []
    },
    {
      "cell_type": "code",
      "metadata": {
        "id": "tRpRFYK5pnnk",
        "colab_type": "code",
        "colab": {}
      },
      "source": [
        "from pandas.plotting import scatter_matrix \n",
        "features = [\"host_id\" ,\"availability_365\", \"minimum_nights\", \"reviews_per_month\", \"price\"]\n",
        "scatter_matrix(nycAB[features], figsize=(15,15))"
      ],
      "execution_count": 0,
      "outputs": []
    },
    {
      "cell_type": "markdown",
      "metadata": {
        "id": "6U-_B2She9q1",
        "colab_type": "text"
      },
      "source": [
        "Availability_365 - most hosts are not available, price - most host has a price under 1000"
      ]
    },
    {
      "cell_type": "markdown",
      "metadata": {
        "id": "ZGA1a0HNbJNr",
        "colab_type": "text"
      },
      "source": [
        "# Seperating predictors from target variable"
      ]
    },
    {
      "cell_type": "code",
      "metadata": {
        "id": "f7JHeI21rNZP",
        "colab_type": "code",
        "colab": {}
      },
      "source": [
        "nycAB = stratified_train_set.copy()\n",
        "nycAB_tRed_set = stratified_trainRed_set.copy()\n",
        "nycAB_valid_set = stratified_valid_set.copy()\n",
        "\n",
        "nycAB = stratified_train_set.drop('price', axis=1)\n",
        "nycAB_tRed_set = stratified_trainRed_set.drop('price', axis=1)\n",
        "nycAB_valid_set = stratified_valid_set.drop('price', axis=1)\n",
        "\n",
        "#nycAB_target = stratified_train_set['price'].copy()\n",
        "#nycAB_tRed_target = stratified_trainRed_set['price'].copy()\n",
        "#nycAB_valid_target = stratified_valid_set['price'].copy()\n",
        "\n",
        "nycAB_target = pd.DataFrame(stratified_train_set, columns= [\"price\"])\n",
        "nycAB_tRed_target = pd.DataFrame(stratified_trainRed_set, columns= [\"price\"])\n",
        "nycAB_valid_target = pd.DataFrame(stratified_valid_set, columns= [\"price\"])"
      ],
      "execution_count": 0,
      "outputs": []
    },
    {
      "cell_type": "markdown",
      "metadata": {
        "id": "KlNZ2_wEc890",
        "colab_type": "text"
      },
      "source": [
        "# **Data Cleaning, Imputing and Feature Selection**"
      ]
    },
    {
      "cell_type": "code",
      "metadata": {
        "id": "SBbr-5wGbCCN",
        "colab_type": "code",
        "colab": {}
      },
      "source": [
        "#nycAB.info()"
      ],
      "execution_count": 0,
      "outputs": []
    },
    {
      "cell_type": "markdown",
      "metadata": {
        "id": "ZgaWrS4wJ8gI",
        "colab_type": "text"
      },
      "source": [
        "# \"*It is not from the benevolence of the butcher, the brewer, or the baker that we expect our dinner, but from their regard to their own interest.*\" \n",
        "---\n",
        "Adam Smith\n"
      ]
    },
    {
      "cell_type": "markdown",
      "metadata": {
        "id": "LJXAs6mS4C-a",
        "colab_type": "text"
      },
      "source": [
        "# **Handling Categorical Features and Feature Scaling**  \n",
        "*   Two categorical attributes: neighbourhood_group and room_type\n",
        "*   For having better performance, we may need to use standardization as feature scaling. It subtracts the mean so the standardized values have a zero mean then it divides by the Standard Deviation $==>$ The resulting distro has **unit variance** \n",
        "*  (Min-Max scaling is also a solution but it bounds a value to specific range, usually 0-1 by subtracting the min then divede it by max-min)"
      ]
    },
    {
      "cell_type": "code",
      "metadata": {
        "id": "dc1e16VKsCXx",
        "colab_type": "code",
        "colab": {}
      },
      "source": [
        "#list0Price = nycAB[nycAB.price == 0].index #list of free goodies \n",
        "#list0Price #there are 6 of it \n",
        "\n",
        "def dropUnnecessary(df, df_target, dropList, boolVar = True):  \n",
        "  temp_df = df.assign(price = df_target)\n",
        "  list0Price_index = temp_df[temp_df.price == 0].index\n",
        "  df_new = df.drop_duplicates() #If duplicates exist, drop them\n",
        "  df_new.drop(dropList, axis=1, inplace=True)  #dropping features in the \"dropList\" list \n",
        "  #df_new['reviews_per_month'].fillna(value='median', inplace=True)\n",
        "  df_new.drop(['reviews_per_month'], axis=1, inplace=True)\n",
        "  df_new.dropna(how='all') #drop an instance if all are NA's\n",
        "  if boolVar:\n",
        "    df_target_new = df_target.drop(list0Price_index) #Assumption: See the quotes above  ==> Dropping entries where price = 0\n",
        "    df_new.drop(list0Price_index, inplace=True) #Dropping the corresponding rows\n",
        "  else:\n",
        "    df_target_new = df_target.copy()\n",
        "  return df_new, df_target_new\n",
        "\n",
        "#dropList = ['name','host_name','last_review','host_id', 'neighbourhood', 'id']\n",
        "\n",
        "#nycAB_imputed, nycAB_imputed_target = dropUnnecessary(nycAB, nycAB_target, dropList)\n",
        "\n",
        "def dropCategorical(df):\n",
        "  dropList1 = df.select_dtypes(include=['object']).columns\n",
        "  df_num = df.drop(dropList1, axis=1)\n",
        "  return df_num \n",
        "\n",
        "#nycAB_imputed_num = dropCategorical(nycAB_imputed)\n",
        "\n",
        "#nycAB_num = nycAB.drop(['neighbourhood_group', 'room_type'], axis=1) #dropping categorical variables, only numerical features remain\n",
        "\n",
        "def puredVersion(df, df_target, dropList, boolVar = True):\n",
        "  imputed, imputed_target = dropUnnecessary(df, df_target, dropList, boolVar)\n",
        "  imputed_num = dropCategorical(imputed)\n",
        "\n",
        "  return imputed, imputed_num, imputed_target\n",
        "\n",
        "#dropList = ['name','host_name','last_review','host_id', 'neighbourhood', 'id']\n",
        "#nycAB_imputed, nycAB_imputed_num, nycAB_imputed_target = puredVersion(nycAB, nycAB_target, dropList)"
      ],
      "execution_count": 0,
      "outputs": []
    },
    {
      "cell_type": "markdown",
      "metadata": {
        "id": "GJAOMECNA_Rs",
        "colab_type": "text"
      },
      "source": [
        "# **Transformation Pipelines**"
      ]
    },
    {
      "cell_type": "code",
      "metadata": {
        "id": "DXqerdSOwGcZ",
        "colab_type": "code",
        "colab": {}
      },
      "source": [
        "from sklearn.pipeline import Pipeline\n",
        "from sklearn import preprocessing\n",
        "from sklearn.preprocessing import StandardScaler, PowerTransformer, OneHotEncoder\n",
        "from sklearn.compose import ColumnTransformer\n",
        "\n",
        "def df_proccessed(df, df_target, dropList, desired_cat_attr, boolVar = True, full_pipeline = None, pT = None):\n",
        "  imputed, imputed_num, imputed_target = puredVersion(df, df_target, dropList, boolVar)\n",
        "\n",
        "  #num_pipeline = Pipeline([('std_scaler', StandardScaler())])    \n",
        "  num_pipeline = Pipeline([('yeo-john', PowerTransformer(method='yeo-johnson'))]) #optional parameter of Powertransformer is standardize which is by default is standardize = True\n",
        "\n",
        "  if pT is None: \n",
        "    pT = preprocessing.PowerTransformer(method='yeo-johnson') #transforming the target variable\n",
        "    targetTransform = pT.fit(imputed_target)\n",
        "    imputed_target_ready = targetTransform.transform(imputed_target)\n",
        "  else:\n",
        "    targetTransform = pT\n",
        "    imputed_target_ready = targetTransform.transform(imputed_target)\n",
        "\n",
        "  num_attr = list(imputed_num)\n",
        "\n",
        "  if full_pipeline is None: \n",
        "    full_pipeline = ColumnTransformer([\n",
        "        (\"num\", num_pipeline, num_attr),\n",
        "        (\"cat\", OneHotEncoder(), desired_cat_attr)])\n",
        "    \n",
        "    fittedColumnTransform = full_pipeline.fit(imputed)\n",
        "    df_ready = fittedColumnTransform.transform(imputed)\n",
        "  else:\n",
        "    fittedColumnTransform = full_pipeline\n",
        "    df_ready = fittedColumnTransform.transform(imputed)\n",
        "\n",
        "  return df_ready, imputed_target_ready, fittedColumnTransform, targetTransform"
      ],
      "execution_count": 0,
      "outputs": []
    },
    {
      "cell_type": "markdown",
      "metadata": {
        "id": "DWfPzGIvOSRJ",
        "colab_type": "text"
      },
      "source": [
        "# **Selecting and Trainaing Models** on Reduced Training Set and Evaluating on the Validation Set"
      ]
    },
    {
      "cell_type": "markdown",
      "metadata": {
        "id": "X4drSJtkS10a",
        "colab_type": "text"
      },
      "source": [
        "## **Linear Regression** --- Plain Vanila"
      ]
    },
    {
      "cell_type": "markdown",
      "metadata": {
        "id": "NumfbJQPTrDv",
        "colab_type": "text"
      },
      "source": [
        "### Transformation of the data on the REDUCED Training Set"
      ]
    },
    {
      "cell_type": "markdown",
      "metadata": {
        "id": "Asv8BmQvcSEc",
        "colab_type": "text"
      },
      "source": [
        "### PCA (some experiment)"
      ]
    },
    {
      "cell_type": "code",
      "metadata": {
        "id": "-G9whs716uNz",
        "colab_type": "code",
        "colab": {
          "base_uri": "https://localhost:8080/",
          "height": 204
        },
        "outputId": "5a6490ef-89e2-45e9-a121-af9173e8d21b"
      },
      "source": [
        "corrMtx = nycAB_orig.corr()\n",
        "corrMtx[\"price\"].sort_values(ascending=False)"
      ],
      "execution_count": 47,
      "outputs": [
        {
          "output_type": "execute_result",
          "data": {
            "text/plain": [
              "price                             1.000000\n",
              "availability_365                  0.081829\n",
              "calculated_host_listings_count    0.057472\n",
              "minimum_nights                    0.042799\n",
              "latitude                          0.033939\n",
              "host_id                           0.015309\n",
              "id                                0.010619\n",
              "reviews_per_month                -0.030608\n",
              "number_of_reviews                -0.047954\n",
              "longitude                        -0.150019\n",
              "Name: price, dtype: float64"
            ]
          },
          "metadata": {
            "tags": []
          },
          "execution_count": 47
        }
      ]
    },
    {
      "cell_type": "code",
      "metadata": {
        "id": "gCJFAdNxgQQU",
        "colab_type": "code",
        "colab": {
          "base_uri": "https://localhost:8080/",
          "height": 136
        },
        "outputId": "60d860ca-2015-46be-96c7-65402171f42f"
      },
      "source": [
        "from sklearn.decomposition import PCA\n",
        "\n",
        "#dropList_original = ['name','host_name','last_review','neighbourhood', 'host_id', 'id']  # It turned out that \"latitude can be eliminated from features with which the explained variance will not be dropped under 0.95\"\n",
        "dropList = ['name','host_name','last_review','neighbourhood', 'host_id', 'id', 'latitude']\n",
        "desired_cat_attr = ['room_type','neighbourhood_group']\n",
        "boolVar = True\n",
        "nycAB_ready, nycAB_imputed_target, fittedColumnTransform, targetTransform = df_proccessed(nycAB, nycAB_target, dropList, desired_cat_attr, boolVar)\n",
        "\n",
        "pca = PCA(n_components = 0.95)\n",
        "trial_nycAB_ready = pca.fit_transform(nycAB_ready)\n",
        "(pca.n_components_, np.sum(pca.explained_variance_ratio_)) #It turns out that latitude is the one is not needed\n",
        "#pca.components_"
      ],
      "execution_count": 18,
      "outputs": [
        {
          "output_type": "stream",
          "text": [
            "/usr/local/lib/python3.6/dist-packages/sklearn/preprocessing/_data.py:2951: RuntimeWarning: overflow encountered in power\n",
            "  out[~pos] = -(np.power(-x[~pos] + 1, 2 - lmbda) - 1) / (2 - lmbda)\n",
            "/usr/local/lib/python3.6/dist-packages/numpy/core/_methods.py:195: RuntimeWarning: overflow encountered in multiply\n",
            "  x = um.multiply(x, x, out=x)\n",
            "/usr/local/lib/python3.6/dist-packages/numpy/core/_methods.py:199: RuntimeWarning: overflow encountered in reduce\n",
            "  ret = umr_sum(x, axis, dtype, out, keepdims)\n"
          ],
          "name": "stderr"
        },
        {
          "output_type": "execute_result",
          "data": {
            "text/plain": [
              "(7, 0.9745092646499068)"
            ]
          },
          "metadata": {
            "tags": []
          },
          "execution_count": 18
        }
      ]
    },
    {
      "cell_type": "markdown",
      "metadata": {
        "id": "u_3cav9lhblM",
        "colab_type": "text"
      },
      "source": [
        "----------------------------"
      ]
    },
    {
      "cell_type": "code",
      "metadata": {
        "id": "vXtCEpwATp2u",
        "colab_type": "code",
        "colab": {}
      },
      "source": [
        "#dropList = ['name','host_name','last_review','neighbourhood','host_id', 'id']\n",
        "dropList = ['name','host_name','last_review','neighbourhood','host_id', 'id', 'latitude']\n",
        "desired_cat_attr = ['room_type','neighbourhood_group']\n",
        "boolVar = True"
      ],
      "execution_count": 0,
      "outputs": []
    },
    {
      "cell_type": "code",
      "metadata": {
        "id": "qrQHrQsvXm6d",
        "colab_type": "code",
        "colab": {
          "base_uri": "https://localhost:8080/",
          "height": 221
        },
        "outputId": "571ab9dc-5964-4698-cbe6-eefeba5ef63e"
      },
      "source": [
        "nycAB_tRed_set['neighbourhood'].value_counts()   #why neighbourhood can't be categorized into desired_cat_attr -> there will be instances in the validation set where there wouldn't be cases from the neighbourhood appered in the reduced training set"
      ],
      "execution_count": 51,
      "outputs": [
        {
          "output_type": "execute_result",
          "data": {
            "text/plain": [
              "Williamsburg          2486\n",
              "Bedford-Stuyvesant    2314\n",
              "Harlem                1693\n",
              "Bushwick              1584\n",
              "Upper West Side       1256\n",
              "                      ... \n",
              "Willowbrook              1\n",
              "Richmondtown             1\n",
              "Westerleigh              1\n",
              "Co-op City               1\n",
              "West Farms               1\n",
              "Name: neighbourhood, Length: 221, dtype: int64"
            ]
          },
          "metadata": {
            "tags": []
          },
          "execution_count": 51
        }
      ]
    },
    {
      "cell_type": "code",
      "metadata": {
        "id": "6utuerM8B7Ai",
        "colab_type": "code",
        "colab": {}
      },
      "source": [
        "nycAB_ready, nycAB_imputed_target, fittedColumnTransform, targetTransform = df_proccessed(nycAB, nycAB_target, dropList, desired_cat_attr, boolVar)   #Full training set imputation and transformation\n",
        "X_trRed, Y_trRed, fittedColumnTransform, targetTransform = df_proccessed(nycAB_tRed_set, nycAB_tRed_target, dropList, desired_cat_attr, boolVar)      #Reduced training set imputation and transformation \n",
        "X_valid, Y_valid, _, _ = df_proccessed(nycAB_valid_set, nycAB_valid_target, dropList, desired_cat_attr, boolVar, full_pipeline=fittedColumnTransform, pT=targetTransform)    #Validation Set imputation and transformation "
      ],
      "execution_count": 0,
      "outputs": []
    },
    {
      "cell_type": "markdown",
      "metadata": {
        "id": "XEk0VsCpOdNY",
        "colab_type": "text"
      },
      "source": [
        "### Training of the REDUCED Training Set  \n"
      ]
    },
    {
      "cell_type": "code",
      "metadata": {
        "id": "GxCJYMk0PFc9",
        "colab_type": "code",
        "outputId": "1516b2a4-312a-4397-f07d-324cdd8d4cfd",
        "colab": {
          "base_uri": "https://localhost:8080/",
          "height": 34
        }
      },
      "source": [
        "from sklearn.linear_model import LinearRegression\n",
        "from sklearn.metrics import mean_squared_error\n",
        "\n",
        "lin1_reg = LinearRegression()\n",
        "lin1_reg.fit(X_trRed, Y_trRed)\n",
        "Y_trPred_lin1 = lin1_reg.predict(X_trRed)\n",
        "lin1_trPred_mse = mean_squared_error(Y_trRed, Y_trPred_lin1)\n",
        "lin1_trPred_rmse = np.sqrt(lin1_trPred_mse)\n",
        "\n",
        "print(\"LinReg Train RMSE:\", lin1_trPred_rmse)"
      ],
      "execution_count": 21,
      "outputs": [
        {
          "output_type": "stream",
          "text": [
            "LinReg Train RMSE: 0.6770193694707001\n"
          ],
          "name": "stdout"
        }
      ]
    },
    {
      "cell_type": "markdown",
      "metadata": {
        "id": "x7MCOskfao-V",
        "colab_type": "text"
      },
      "source": [
        "### Evaluation on the Validation Set\n",
        "\n"
      ]
    },
    {
      "cell_type": "code",
      "metadata": {
        "id": "zf3qWd3Qcnf1",
        "colab_type": "code",
        "outputId": "bef7a76e-c1d8-45ec-a393-33515df39b1f",
        "colab": {
          "base_uri": "https://localhost:8080/",
          "height": 34
        }
      },
      "source": [
        "Y_validPred_lin1 = lin1_reg.predict(X_valid)\n",
        "\n",
        "lin1_validPred_mse = mean_squared_error(Y_valid, Y_validPred_lin1)\n",
        "lin1_validPred_rmse = np.sqrt(lin1_validPred_mse)\n",
        "\n",
        "print(\"LinReg Validation RMSE:\", lin1_validPred_rmse)"
      ],
      "execution_count": 22,
      "outputs": [
        {
          "output_type": "stream",
          "text": [
            "LinReg Validation RMSE: 0.6965595664918152\n"
          ],
          "name": "stdout"
        }
      ]
    },
    {
      "cell_type": "markdown",
      "metadata": {
        "id": "EIFq3oAUh5yu",
        "colab_type": "text"
      },
      "source": [
        "## **Linear Regression** --- Plain Vanila but w/ a K-fold Cross-Validation Spice (Using entire full Training Set) \n",
        "*   The reason why we do not need validation set is defined in the definition of K-fold Cross-Validation (let's say K=10, so the training set will be randomly split into 10 folds (aka subsets), and the chosen model (now Lin Reg) will be trained and evaluated 10 times, **choosing a different fold every time** as a validation set and training on the other 9 folds.\n",
        "In this way, we could also get a glimpse of whether the training set is overfitted or not. \n",
        "\n",
        "*   By default Sklearn's CV expects a utility function instead of cost function used by Regression models' as performance measurement. So the scoring function used by Sklearn's CV has to be a negated MSE, that's why in the code you see $\\text{-lin_score}$\n",
        "\n"
      ]
    },
    {
      "cell_type": "code",
      "metadata": {
        "id": "gYtSNAeAiUCE",
        "colab_type": "code",
        "outputId": "d663f3f9-a584-4dcc-804e-4f520c53184a",
        "colab": {
          "base_uri": "https://localhost:8080/",
          "height": 68
        }
      },
      "source": [
        "from sklearn.model_selection import cross_val_score\n",
        "\n",
        "def display_scores(scores):\n",
        "  print(\"Scores:\", scores)\n",
        "  print(\"Mean:\", scores.mean())\n",
        "  print(\"Standard deviation:\", scores.std())\n",
        "\n",
        "lin1_scores = cross_val_score(lin1_reg, nycAB_ready, nycAB_imputed_target, scoring=\"neg_mean_squared_error\", cv=6)\n",
        "lin1_rmse_scores = np.sqrt(-lin1_scores)\n",
        " \n",
        "display_scores(lin1_rmse_scores)"
      ],
      "execution_count": 23,
      "outputs": [
        {
          "output_type": "stream",
          "text": [
            "Scores: [0.67304163 0.67829413 0.69321752 0.6892309  0.65613561 0.67924484]\n",
            "Mean: 0.6781941041835943\n",
            "Standard deviation: 0.011984385682370549\n"
          ],
          "name": "stdout"
        }
      ]
    },
    {
      "cell_type": "markdown",
      "metadata": {
        "id": "ghRndS8bNdR6",
        "colab_type": "text"
      },
      "source": [
        "## **Linear Regression w/ Stochastic Gradient Descent** "
      ]
    },
    {
      "cell_type": "markdown",
      "metadata": {
        "id": "q1P5RkKbPdIk",
        "colab_type": "text"
      },
      "source": [
        "### Training of the REDUCED Training Set  "
      ]
    },
    {
      "cell_type": "code",
      "metadata": {
        "id": "rfWP2zMrNabF",
        "colab_type": "code",
        "outputId": "2c431c93-00b2-4f8d-b8e2-dbea89c7e515",
        "colab": {
          "base_uri": "https://localhost:8080/",
          "height": 68
        }
      },
      "source": [
        "from sklearn.linear_model import SGDRegressor\n",
        "\n",
        "sgd1_reg = SGDRegressor(max_iter=1000, tol=1e-3, penalty=\"l2\", eta0=0.1, random_state = randState)\n",
        "sgd1_reg.fit(X_trRed, Y_trRed)\n",
        "Y_trPred_sgd1 = sgd1_reg.predict(X_trRed)\n",
        "sgd1_trPred_mse = mean_squared_error(Y_trRed, Y_trPred_sgd1)\n",
        "sgd1_trPred_rmse = np.sqrt(sgd1_trPred_mse)\n",
        "\n",
        "print(\"LinReg w/ SGD Train RMSE:\", sgd1_trPred_rmse)"
      ],
      "execution_count": 24,
      "outputs": [
        {
          "output_type": "stream",
          "text": [
            "LinReg w/ SGD Train RMSE: 0.6841943750286406\n"
          ],
          "name": "stdout"
        },
        {
          "output_type": "stream",
          "text": [
            "/usr/local/lib/python3.6/dist-packages/sklearn/utils/validation.py:760: DataConversionWarning: A column-vector y was passed when a 1d array was expected. Please change the shape of y to (n_samples, ), for example using ravel().\n",
            "  y = column_or_1d(y, warn=True)\n"
          ],
          "name": "stderr"
        }
      ]
    },
    {
      "cell_type": "markdown",
      "metadata": {
        "id": "z_rRK8fyPjmY",
        "colab_type": "text"
      },
      "source": [
        "### Evaluation on the Validation Set\n"
      ]
    },
    {
      "cell_type": "code",
      "metadata": {
        "id": "2WlzFUzSPpZa",
        "colab_type": "code",
        "outputId": "4ab74092-4fb4-4b97-d5f4-3cce21dd5a18",
        "colab": {
          "base_uri": "https://localhost:8080/",
          "height": 34
        }
      },
      "source": [
        "Y_validPred_sgd1 = sgd1_reg.predict(X_valid)\n",
        "\n",
        "sgd1_validPred_mse = mean_squared_error(Y_valid, Y_validPred_sgd1)\n",
        "sgd1_validPred_rmse = np.sqrt(sgd1_validPred_mse)\n",
        "\n",
        "print(\"LinReg w/ SGD Validation RMSE:\", sgd1_validPred_rmse)"
      ],
      "execution_count": 25,
      "outputs": [
        {
          "output_type": "stream",
          "text": [
            "LinReg w/ SGD Validation RMSE: 0.7021693327067585\n"
          ],
          "name": "stdout"
        }
      ]
    },
    {
      "cell_type": "code",
      "metadata": {
        "id": "MVejXCs1gw-0",
        "colab_type": "code",
        "outputId": "22740e2b-9e7a-4e9a-eff4-243ffef0ccff",
        "colab": {
          "base_uri": "https://localhost:8080/",
          "height": 272
        }
      },
      "source": [
        "sgd1_scores = cross_val_score(sgd1_reg, nycAB_ready, nycAB_imputed_target, scoring=\"neg_mean_squared_error\", cv=6) #Cross-validation\n",
        "sgd1_rmse_scores = np.sqrt(-sgd1_scores)\n",
        " \n",
        "display_scores(sgd1_rmse_scores)"
      ],
      "execution_count": 26,
      "outputs": [
        {
          "output_type": "stream",
          "text": [
            "/usr/local/lib/python3.6/dist-packages/sklearn/utils/validation.py:760: DataConversionWarning: A column-vector y was passed when a 1d array was expected. Please change the shape of y to (n_samples, ), for example using ravel().\n",
            "  y = column_or_1d(y, warn=True)\n",
            "/usr/local/lib/python3.6/dist-packages/sklearn/utils/validation.py:760: DataConversionWarning: A column-vector y was passed when a 1d array was expected. Please change the shape of y to (n_samples, ), for example using ravel().\n",
            "  y = column_or_1d(y, warn=True)\n",
            "/usr/local/lib/python3.6/dist-packages/sklearn/utils/validation.py:760: DataConversionWarning: A column-vector y was passed when a 1d array was expected. Please change the shape of y to (n_samples, ), for example using ravel().\n",
            "  y = column_or_1d(y, warn=True)\n",
            "/usr/local/lib/python3.6/dist-packages/sklearn/utils/validation.py:760: DataConversionWarning: A column-vector y was passed when a 1d array was expected. Please change the shape of y to (n_samples, ), for example using ravel().\n",
            "  y = column_or_1d(y, warn=True)\n",
            "/usr/local/lib/python3.6/dist-packages/sklearn/utils/validation.py:760: DataConversionWarning: A column-vector y was passed when a 1d array was expected. Please change the shape of y to (n_samples, ), for example using ravel().\n",
            "  y = column_or_1d(y, warn=True)\n",
            "/usr/local/lib/python3.6/dist-packages/sklearn/utils/validation.py:760: DataConversionWarning: A column-vector y was passed when a 1d array was expected. Please change the shape of y to (n_samples, ), for example using ravel().\n",
            "  y = column_or_1d(y, warn=True)\n"
          ],
          "name": "stderr"
        },
        {
          "output_type": "stream",
          "text": [
            "Scores: [0.67741988 0.68909422 0.70842648 0.70692585 0.65766735 0.68406838]\n",
            "Mean: 0.6872670252989609\n",
            "Standard deviation: 0.017420625523434027\n"
          ],
          "name": "stdout"
        }
      ]
    },
    {
      "cell_type": "markdown",
      "metadata": {
        "id": "qyK7c43fT9qa",
        "colab_type": "text"
      },
      "source": [
        "## **K-nearest Neighbour** "
      ]
    },
    {
      "cell_type": "code",
      "metadata": {
        "id": "h-RGGeBQUGlT",
        "colab_type": "code",
        "outputId": "b1c84640-5aab-4046-d722-6498dc5f36e2",
        "colab": {
          "base_uri": "https://localhost:8080/",
          "height": 34
        }
      },
      "source": [
        "from sklearn.neighbors import KNeighborsRegressor\n",
        "kNN1_reg = KNeighborsRegressor(n_neighbors = 5)\n",
        "kNN1_reg.fit(X_trRed, Y_trRed)\n",
        "\n",
        "Y_trPred_kNN1 = kNN1_reg.predict(X_trRed)\n",
        "kNN1_trPred_mse = mean_squared_error(Y_trRed, Y_trPred_kNN1)\n",
        "kNN1_trPred_rmse = np.sqrt(kNN1_trPred_mse)\n",
        "\n",
        "print(\"kNN Train RMSE:\", kNN1_trPred_rmse)"
      ],
      "execution_count": 27,
      "outputs": [
        {
          "output_type": "stream",
          "text": [
            "kNN Train RMSE: 0.5515750403299964\n"
          ],
          "name": "stdout"
        }
      ]
    },
    {
      "cell_type": "code",
      "metadata": {
        "id": "yuDUbzyoUt6o",
        "colab_type": "code",
        "outputId": "6e2558fb-5df4-4e7b-8d19-1bcbaba1f7bb",
        "colab": {
          "base_uri": "https://localhost:8080/",
          "height": 34
        }
      },
      "source": [
        "Y_validPred_kNN1 = kNN1_reg.predict(X_valid)\n",
        "\n",
        "kNN1_validPred_mse = mean_squared_error(Y_valid, Y_validPred_kNN1)\n",
        "kNN1_validPred_rmse = np.sqrt(kNN1_validPred_mse)\n",
        "\n",
        "print(\"kNN Validation RMSE:\", kNN1_validPred_rmse)"
      ],
      "execution_count": 28,
      "outputs": [
        {
          "output_type": "stream",
          "text": [
            "kNN Validation RMSE: 0.7001383146532633\n"
          ],
          "name": "stdout"
        }
      ]
    },
    {
      "cell_type": "code",
      "metadata": {
        "id": "8DsbOktMXEFn",
        "colab_type": "code",
        "outputId": "cd86aea8-cc23-4ef3-d818-bb6bc63d09b2",
        "colab": {
          "base_uri": "https://localhost:8080/",
          "height": 68
        }
      },
      "source": [
        "kNN1_scores = cross_val_score(kNN1_reg, nycAB_ready, nycAB_imputed_target, scoring=\"neg_mean_squared_error\", cv=6)\n",
        "kNN1_rmse_scores = np.sqrt(-kNN1_scores)\n",
        " \n",
        "display_scores(kNN1_rmse_scores)"
      ],
      "execution_count": 29,
      "outputs": [
        {
          "output_type": "stream",
          "text": [
            "Scores: [0.67048095 0.67800489 0.69153497 0.68799269 0.65542435 0.67963811]\n",
            "Mean: 0.6771793256928373\n",
            "Standard deviation: 0.011887580752855318\n"
          ],
          "name": "stdout"
        }
      ]
    },
    {
      "cell_type": "markdown",
      "metadata": {
        "id": "09AO7L0GibGS",
        "colab_type": "text"
      },
      "source": [
        "## **SVM w/ Linear Kernel** \n",
        "\n"
      ]
    },
    {
      "cell_type": "markdown",
      "metadata": {
        "id": "aojNECOtjCIa",
        "colab_type": "text"
      },
      "source": [
        "### Training of the REDUCED Training Set  "
      ]
    },
    {
      "cell_type": "code",
      "metadata": {
        "id": "ExJ7MKIuian4",
        "colab_type": "code",
        "outputId": "9ca455de-f7a9-426f-ac36-698f15011a27",
        "colab": {
          "base_uri": "https://localhost:8080/",
          "height": 68
        }
      },
      "source": [
        "from sklearn.svm import SVR\n",
        "svmLin1_reg = SVR(kernel=\"linear\", epsilon=1.5, C=1)\n",
        "svmLin1_reg.fit(X_trRed, Y_trRed)\n",
        "\n",
        "Y_trPred_svmLin1 = svmLin1_reg.predict(X_trRed)\n",
        "svmLin1_trPred_mse = mean_squared_error(Y_trRed, Y_trPred_svmLin1)\n",
        "svmLin1_trPred_rmse = np.sqrt(svmLin1_trPred_mse)\n",
        " \n",
        "print(\"SVM w/ Linear Kernel Train RMSE:\", svmLin1_trPred_rmse)"
      ],
      "execution_count": 30,
      "outputs": [
        {
          "output_type": "stream",
          "text": [
            "/usr/local/lib/python3.6/dist-packages/sklearn/utils/validation.py:760: DataConversionWarning: A column-vector y was passed when a 1d array was expected. Please change the shape of y to (n_samples, ), for example using ravel().\n",
            "  y = column_or_1d(y, warn=True)\n"
          ],
          "name": "stderr"
        },
        {
          "output_type": "stream",
          "text": [
            "SVM w/ Linear Kernel Train RMSE: 0.694403453376022\n"
          ],
          "name": "stdout"
        }
      ]
    },
    {
      "cell_type": "markdown",
      "metadata": {
        "id": "TLf2STe1jJ3z",
        "colab_type": "text"
      },
      "source": [
        "### Evaluation on the Validation Set\n"
      ]
    },
    {
      "cell_type": "code",
      "metadata": {
        "id": "kbrmV2PJmN18",
        "colab_type": "code",
        "outputId": "e970917d-4aeb-433f-e54b-c99d5fbce959",
        "colab": {
          "base_uri": "https://localhost:8080/",
          "height": 34
        }
      },
      "source": [
        "Y_validPred_svmLin1 = svmLin1_reg.predict(X_valid)\n",
        "\n",
        "svmLin1_validPred_mse = mean_squared_error(Y_valid, Y_validPred_svmLin1)\n",
        "svmLin1_validPred_rmse = np.sqrt(svmLin1_validPred_mse)\n",
        "\n",
        "print(\"SVM w/ Linear Kernel Validation RMSE:\", svmLin1_validPred_rmse)"
      ],
      "execution_count": 31,
      "outputs": [
        {
          "output_type": "stream",
          "text": [
            "SVM w/ Linear Kernel Validation RMSE: 0.7145975811681351\n"
          ],
          "name": "stdout"
        }
      ]
    },
    {
      "cell_type": "markdown",
      "metadata": {
        "id": "dNQcFy0XrKX6",
        "colab_type": "text"
      },
      "source": [
        "## **SVM w/ Linear Kernel** --- w/ Cross-Validation "
      ]
    },
    {
      "cell_type": "code",
      "metadata": {
        "id": "lNZOUpnsrdvX",
        "colab_type": "code",
        "outputId": "52d4711d-059b-4525-c61a-43d8921d7252",
        "colab": {
          "base_uri": "https://localhost:8080/",
          "height": 272
        }
      },
      "source": [
        "from sklearn.model_selection import cross_val_score\n",
        "\n",
        "svmLin1_scores = cross_val_score(svmLin1_reg, nycAB_ready, nycAB_imputed_target, scoring=\"neg_mean_squared_error\", cv=6)\n",
        "svmLin1_rmse_scores = np.sqrt(-svmLin1_scores)\n",
        " \n",
        "display_scores(svmLin1_rmse_scores)"
      ],
      "execution_count": 32,
      "outputs": [
        {
          "output_type": "stream",
          "text": [
            "/usr/local/lib/python3.6/dist-packages/sklearn/utils/validation.py:760: DataConversionWarning: A column-vector y was passed when a 1d array was expected. Please change the shape of y to (n_samples, ), for example using ravel().\n",
            "  y = column_or_1d(y, warn=True)\n",
            "/usr/local/lib/python3.6/dist-packages/sklearn/utils/validation.py:760: DataConversionWarning: A column-vector y was passed when a 1d array was expected. Please change the shape of y to (n_samples, ), for example using ravel().\n",
            "  y = column_or_1d(y, warn=True)\n",
            "/usr/local/lib/python3.6/dist-packages/sklearn/utils/validation.py:760: DataConversionWarning: A column-vector y was passed when a 1d array was expected. Please change the shape of y to (n_samples, ), for example using ravel().\n",
            "  y = column_or_1d(y, warn=True)\n",
            "/usr/local/lib/python3.6/dist-packages/sklearn/utils/validation.py:760: DataConversionWarning: A column-vector y was passed when a 1d array was expected. Please change the shape of y to (n_samples, ), for example using ravel().\n",
            "  y = column_or_1d(y, warn=True)\n",
            "/usr/local/lib/python3.6/dist-packages/sklearn/utils/validation.py:760: DataConversionWarning: A column-vector y was passed when a 1d array was expected. Please change the shape of y to (n_samples, ), for example using ravel().\n",
            "  y = column_or_1d(y, warn=True)\n",
            "/usr/local/lib/python3.6/dist-packages/sklearn/utils/validation.py:760: DataConversionWarning: A column-vector y was passed when a 1d array was expected. Please change the shape of y to (n_samples, ), for example using ravel().\n",
            "  y = column_or_1d(y, warn=True)\n"
          ],
          "name": "stderr"
        },
        {
          "output_type": "stream",
          "text": [
            "Scores: [0.68706439 0.69772816 0.71343889 0.70534433 0.67279616 0.7023015 ]\n",
            "Mean: 0.6964455698041149\n",
            "Standard deviation: 0.013236306712198633\n"
          ],
          "name": "stdout"
        }
      ]
    },
    {
      "cell_type": "markdown",
      "metadata": {
        "id": "ejH1180bfU0_",
        "colab_type": "text"
      },
      "source": [
        "## **SVM w/ Polynomial Kernel** "
      ]
    },
    {
      "cell_type": "markdown",
      "metadata": {
        "id": "eXiXWc4Ffj8s",
        "colab_type": "text"
      },
      "source": [
        "### Training of the REDUCED Training Set  "
      ]
    },
    {
      "cell_type": "code",
      "metadata": {
        "id": "_TWM-6Dvfi_N",
        "colab_type": "code",
        "outputId": "7eb94d9a-6d50-416b-8ed2-246624c7cc7c",
        "colab": {
          "base_uri": "https://localhost:8080/",
          "height": 68
        }
      },
      "source": [
        "svmPoly1_reg = SVR(kernel=\"poly\", degree = 3, C=0.5, epsilon = 0.1)\n",
        "svmPoly1_reg.fit(X_trRed, Y_trRed)\n",
        "\n",
        "Y_trPred_svmPoly1 = svmPoly1_reg.predict(X_trRed)\n",
        "svmPoly1_trPred_mse = mean_squared_error(Y_trRed, Y_trPred_svmPoly1)\n",
        "svmPoly1_trPred_rmse = np.sqrt(svmPoly1_trPred_mse)\n",
        "\n",
        "svmPoly1_trPred_rmse \n",
        "print(\"SVM w/ Polynomuial Kernel (deg=3) Train RMSE:\", svmPoly1_trPred_rmse )"
      ],
      "execution_count": 46,
      "outputs": [
        {
          "output_type": "stream",
          "text": [
            "/usr/local/lib/python3.6/dist-packages/sklearn/utils/validation.py:760: DataConversionWarning: A column-vector y was passed when a 1d array was expected. Please change the shape of y to (n_samples, ), for example using ravel().\n",
            "  y = column_or_1d(y, warn=True)\n"
          ],
          "name": "stderr"
        },
        {
          "output_type": "stream",
          "text": [
            "SVM w/ Polynomuial Kernel (deg=3) Train RMSE: 0.6400747655202298\n"
          ],
          "name": "stdout"
        }
      ]
    },
    {
      "cell_type": "markdown",
      "metadata": {
        "id": "MaVEpJTUfx7E",
        "colab_type": "text"
      },
      "source": [
        "### Evaluation on the Validation Set\n"
      ]
    },
    {
      "cell_type": "code",
      "metadata": {
        "id": "vzKYHCnPfT85",
        "colab_type": "code",
        "outputId": "d133d055-6780-4887-c539-1751d6a422a1",
        "colab": {
          "base_uri": "https://localhost:8080/",
          "height": 34
        }
      },
      "source": [
        "Y_validPred_svmPoly1 = svmPoly1_reg.predict(X_valid)\n",
        "\n",
        "svmPoly1_validPred_mse = mean_squared_error(Y_valid, Y_validPred_svmPoly1)\n",
        "svmPoly1_validPred_rmse = np.sqrt(svmPoly1_validPred_mse)\n",
        "\n",
        "print(\"SVM w/ Polynomuial Kernel (deg=3) Validation RMSE:\", svmPoly1_validPred_rmse)"
      ],
      "execution_count": 47,
      "outputs": [
        {
          "output_type": "stream",
          "text": [
            "SVM w/ Polynomuial Kernel (deg=3) Validation RMSE: 0.6674254285744798\n"
          ],
          "name": "stdout"
        }
      ]
    },
    {
      "cell_type": "markdown",
      "metadata": {
        "id": "6zS0crTtJCXC",
        "colab_type": "text"
      },
      "source": [
        "## **Decision Tree** --- Plain Vanila"
      ]
    },
    {
      "cell_type": "code",
      "metadata": {
        "id": "5e2OpmoXJaQx",
        "colab_type": "code",
        "outputId": "ccce72be-77bd-4d7f-f9b5-aafc6e800967",
        "colab": {
          "base_uri": "https://localhost:8080/",
          "height": 34
        }
      },
      "source": [
        "from sklearn.tree import DecisionTreeRegressor\n",
        "\n",
        "tree1_reg = DecisionTreeRegressor(random_state = randState)\n",
        "tree1_reg.fit(X_trRed, Y_trRed)\n",
        "\n",
        "Y_trPred_tree1 = tree1_reg.predict(X_trRed)\n",
        "tree1_trPred_mse = mean_squared_error(Y_trRed, Y_trPred_tree1)\n",
        "tree1_trPred_rmse = np.sqrt(tree1_trPred_mse)\n",
        "\n",
        "tree1_trPred_rmse\n",
        "print(\"Decision Tree Vanila Train RMSE:\", tree1_trPred_rmse)"
      ],
      "execution_count": 33,
      "outputs": [
        {
          "output_type": "stream",
          "text": [
            "Decision Tree Vanila Train RMSE: 0.03131662931292293\n"
          ],
          "name": "stdout"
        }
      ]
    },
    {
      "cell_type": "markdown",
      "metadata": {
        "id": "tgtMYy5iNXdS",
        "colab_type": "text"
      },
      "source": [
        "#### Decision Tree seems an awesome method, but the problem is that it overfits badly to the training model so it will give us awful result on unseen data points as the Cross-Validation is gonna show us.\n",
        "\n",
        "Now let's look at it using Cross-Validation (also using the full training set)"
      ]
    },
    {
      "cell_type": "code",
      "metadata": {
        "id": "p9_Q530PNWm9",
        "colab_type": "code",
        "outputId": "c5682b4e-08f9-4697-82a4-9ae3256cc96a",
        "colab": {
          "base_uri": "https://localhost:8080/",
          "height": 68
        }
      },
      "source": [
        "from sklearn.model_selection import cross_val_score\n",
        "\n",
        "tree1_scores = cross_val_score(tree1_reg, nycAB_ready, nycAB_imputed_target, scoring=\"neg_mean_squared_error\", cv=6)\n",
        "tree1_rmse_scores = np.sqrt(-tree1_scores)\n",
        " \n",
        "display_scores(tree1_rmse_scores)"
      ],
      "execution_count": 34,
      "outputs": [
        {
          "output_type": "stream",
          "text": [
            "Scores: [0.87787965 0.89216259 0.89809072 0.89449501 0.87461973 0.89352271]\n",
            "Mean: 0.8884617360784345\n",
            "Standard deviation: 0.008869509390698298\n"
          ],
          "name": "stdout"
        }
      ]
    },
    {
      "cell_type": "markdown",
      "metadata": {
        "id": "0prHitSQh5Jr",
        "colab_type": "text"
      },
      "source": [
        "## **Decision Tree** w/ max depth = 4"
      ]
    },
    {
      "cell_type": "code",
      "metadata": {
        "id": "oALIMkkfh8OD",
        "colab_type": "code",
        "outputId": "b308640f-da0e-40e2-d8d6-b05c5ae04f4f",
        "colab": {
          "base_uri": "https://localhost:8080/",
          "height": 34
        }
      },
      "source": [
        "tree2_reg = DecisionTreeRegressor(max_depth = 4, random_state = randState)\n",
        "tree2_reg.fit(X_trRed, Y_trRed)\n",
        "\n",
        "Y_trPred_tree2 = tree2_reg.predict(X_trRed)\n",
        "tree2_trPred_mse = mean_squared_error(Y_trRed, Y_trPred_tree2)\n",
        "tree2_trPred_rmse = np.sqrt(tree2_trPred_mse)\n",
        "\n",
        "tree2_trPred_rmse\n",
        "print(\"Decision Tree w/ max depth = 4 Train RMSE\", tree2_trPred_rmse)"
      ],
      "execution_count": 35,
      "outputs": [
        {
          "output_type": "stream",
          "text": [
            "Decision Tree w/ max depth = 4 Train RMSE 0.6763109231486134\n"
          ],
          "name": "stdout"
        }
      ]
    },
    {
      "cell_type": "code",
      "metadata": {
        "id": "cF3hn-qqh8jl",
        "colab_type": "code",
        "outputId": "3ed68c1c-e8ca-4f13-9c5b-914085e86abc",
        "colab": {
          "base_uri": "https://localhost:8080/",
          "height": 34
        }
      },
      "source": [
        "Y_validPred_tree2 = tree2_reg.predict(X_valid)\n",
        "\n",
        "tree2_validPred_mse = mean_squared_error(Y_valid, Y_validPred_tree2)\n",
        "tree2_validPred_rmse = np.sqrt(tree2_validPred_mse)\n",
        "\n",
        "print(\"Decision Tree w/ max depth = 4 Validation RMSE:\", tree2_validPred_rmse)"
      ],
      "execution_count": 36,
      "outputs": [
        {
          "output_type": "stream",
          "text": [
            "Decision Tree w/ max depth = 4 Validation RMSE: 0.6997141446982434\n"
          ],
          "name": "stdout"
        }
      ]
    },
    {
      "cell_type": "code",
      "metadata": {
        "id": "hNnlGV-oh84_",
        "colab_type": "code",
        "outputId": "634e8f0e-bcd3-40a5-9d7e-d0668a637a6f",
        "colab": {
          "base_uri": "https://localhost:8080/",
          "height": 68
        }
      },
      "source": [
        "tree2_scores = cross_val_score(tree2_reg, nycAB_ready, nycAB_imputed_target, scoring=\"neg_mean_squared_error\", cv=6)\n",
        "tree2_rmse_scores = np.sqrt(-tree2_scores)\n",
        " \n",
        "display_scores(tree2_rmse_scores)"
      ],
      "execution_count": 37,
      "outputs": [
        {
          "output_type": "stream",
          "text": [
            "Scores: [0.67267274 0.67767628 0.69757797 0.69230132 0.65826166 0.68000902]\n",
            "Mean: 0.6797498320117611\n",
            "Standard deviation: 0.012855450904349105\n"
          ],
          "name": "stdout"
        }
      ]
    },
    {
      "cell_type": "markdown",
      "metadata": {
        "id": "TY80OtlZPNz7",
        "colab_type": "text"
      },
      "source": [
        "## **RandomForest** --- Plain Vanila"
      ]
    },
    {
      "cell_type": "markdown",
      "metadata": {
        "id": "czzoGIvzbkcA",
        "colab_type": "text"
      },
      "source": [
        "### Training of the REDUCED Training Set  "
      ]
    },
    {
      "cell_type": "code",
      "metadata": {
        "id": "yt8L9RPHbPH6",
        "colab_type": "code",
        "outputId": "3e070215-eefb-4be0-b3b4-f66e8972fa4d",
        "colab": {
          "base_uri": "https://localhost:8080/",
          "height": 68
        }
      },
      "source": [
        "from sklearn.ensemble import RandomForestRegressor\n",
        "\n",
        "RF1_reg = RandomForestRegressor(n_estimators=100, random_state= randState)\n",
        "RF1_reg.fit(X_trRed, Y_trRed)\n",
        "\n",
        "Y_trPred_RF1 = RF1_reg.predict(X_trRed)\n",
        "RF1_trPred_mse = mean_squared_error(Y_trRed, Y_trPred_RF1)\n",
        "RF1_trPred_rmse = np.sqrt(RF1_trPred_mse)\n",
        "\n",
        "print(\"RF Vanila Train RMSE:\", RF1_trPred_rmse)"
      ],
      "execution_count": 38,
      "outputs": [
        {
          "output_type": "stream",
          "text": [
            "/usr/local/lib/python3.6/dist-packages/ipykernel_launcher.py:4: DataConversionWarning: A column-vector y was passed when a 1d array was expected. Please change the shape of y to (n_samples,), for example using ravel().\n",
            "  after removing the cwd from sys.path.\n"
          ],
          "name": "stderr"
        },
        {
          "output_type": "stream",
          "text": [
            "RF Vanila Train RMSE: 0.2431135766732536\n"
          ],
          "name": "stdout"
        }
      ]
    },
    {
      "cell_type": "markdown",
      "metadata": {
        "id": "-BalUHjwdnhR",
        "colab_type": "text"
      },
      "source": [
        "### Evaluation on the Validation Set\n"
      ]
    },
    {
      "cell_type": "code",
      "metadata": {
        "id": "9Y1JUZpKd7uK",
        "colab_type": "code",
        "outputId": "b677631e-fe39-4bf7-8b10-09627c495a2d",
        "colab": {
          "base_uri": "https://localhost:8080/",
          "height": 34
        }
      },
      "source": [
        "Y_validPred_RF1 = RF1_reg.predict(X_valid)\n",
        "\n",
        "RF1_validPred_mse = mean_squared_error(Y_valid, Y_validPred_RF1)\n",
        "RF1_validPred_rmse = np.sqrt(RF1_validPred_mse)\n",
        "\n",
        "print(\"RF Vanila Validation RMSE:\", RF1_validPred_rmse)"
      ],
      "execution_count": 39,
      "outputs": [
        {
          "output_type": "stream",
          "text": [
            "RF Vanila Validation RMSE: 0.672242347333742\n"
          ],
          "name": "stdout"
        }
      ]
    },
    {
      "cell_type": "markdown",
      "metadata": {
        "id": "zG8alEJCfsWp",
        "colab_type": "text"
      },
      "source": [
        "#### The Plain RandomForest seems to overfit badly, that is, it performs much worse on the validation set. \n",
        "\n",
        "Now let's look at it using Cross-Validation (also using the full training set)"
      ]
    },
    {
      "cell_type": "code",
      "metadata": {
        "id": "jdqH9WCrgVeB",
        "colab_type": "code",
        "outputId": "b259db8f-ffa6-47df-efd4-ae20fac50560",
        "colab": {
          "base_uri": "https://localhost:8080/",
          "height": 292
        }
      },
      "source": [
        "from sklearn.model_selection import cross_val_score\n",
        "\n",
        "RF1_scores = cross_val_score(RF1_reg, nycAB_ready, nycAB_imputed_target, scoring=\"neg_mean_squared_error\", cv=6)\n",
        "RF1_rmse_scores = np.sqrt(-RF1_scores)\n",
        " \n",
        "display_scores(RF1_rmse_scores)"
      ],
      "execution_count": 40,
      "outputs": [
        {
          "output_type": "stream",
          "text": [
            "/usr/local/lib/python3.6/dist-packages/sklearn/model_selection/_validation.py:515: DataConversionWarning: A column-vector y was passed when a 1d array was expected. Please change the shape of y to (n_samples,), for example using ravel().\n",
            "  estimator.fit(X_train, y_train, **fit_params)\n",
            "/usr/local/lib/python3.6/dist-packages/sklearn/model_selection/_validation.py:515: DataConversionWarning: A column-vector y was passed when a 1d array was expected. Please change the shape of y to (n_samples,), for example using ravel().\n",
            "  estimator.fit(X_train, y_train, **fit_params)\n",
            "/usr/local/lib/python3.6/dist-packages/sklearn/model_selection/_validation.py:515: DataConversionWarning: A column-vector y was passed when a 1d array was expected. Please change the shape of y to (n_samples,), for example using ravel().\n",
            "  estimator.fit(X_train, y_train, **fit_params)\n",
            "/usr/local/lib/python3.6/dist-packages/sklearn/model_selection/_validation.py:515: DataConversionWarning: A column-vector y was passed when a 1d array was expected. Please change the shape of y to (n_samples,), for example using ravel().\n",
            "  estimator.fit(X_train, y_train, **fit_params)\n",
            "/usr/local/lib/python3.6/dist-packages/sklearn/model_selection/_validation.py:515: DataConversionWarning: A column-vector y was passed when a 1d array was expected. Please change the shape of y to (n_samples,), for example using ravel().\n",
            "  estimator.fit(X_train, y_train, **fit_params)\n",
            "/usr/local/lib/python3.6/dist-packages/sklearn/model_selection/_validation.py:515: DataConversionWarning: A column-vector y was passed when a 1d array was expected. Please change the shape of y to (n_samples,), for example using ravel().\n",
            "  estimator.fit(X_train, y_train, **fit_params)\n"
          ],
          "name": "stderr"
        },
        {
          "output_type": "stream",
          "text": [
            "Scores: [0.64170246 0.65003458 0.66284811 0.6588487  0.62750402 0.65429809]\n",
            "Mean: 0.649205992634028\n",
            "Standard deviation: 0.011782641966441196\n"
          ],
          "name": "stdout"
        }
      ]
    },
    {
      "cell_type": "markdown",
      "metadata": {
        "id": "FHwW7Rgv2Okn",
        "colab_type": "text"
      },
      "source": [
        "## **RandomForest** --- with parameters "
      ]
    },
    {
      "cell_type": "code",
      "metadata": {
        "id": "CaHeEFZZ2Wjx",
        "colab_type": "code",
        "outputId": "26ec37b5-34f0-4532-8de0-2ba00fccfa92",
        "colab": {
          "base_uri": "https://localhost:8080/",
          "height": 68
        }
      },
      "source": [
        "RF2_reg = RandomForestRegressor(n_estimators=100, max_depth=4, max_leaf_nodes = 10 , n_jobs = -1, random_state = randState, bootstrap = True)\n",
        "RF2_reg.fit(X_trRed, Y_trRed)\n",
        "\n",
        "Y_trPred_RF2 = RF2_reg.predict(X_trRed)\n",
        "RF2_trPred_mse = mean_squared_error(Y_trRed, Y_trPred_RF2)\n",
        "RF2_trPred_rmse = np.sqrt(RF2_trPred_mse)\n",
        "\n",
        "print(\"RF w/ parameters Train RMSE:\", RF2_trPred_rmse)"
      ],
      "execution_count": 42,
      "outputs": [
        {
          "output_type": "stream",
          "text": [
            "/usr/local/lib/python3.6/dist-packages/ipykernel_launcher.py:2: DataConversionWarning: A column-vector y was passed when a 1d array was expected. Please change the shape of y to (n_samples,), for example using ravel().\n",
            "  \n"
          ],
          "name": "stderr"
        },
        {
          "output_type": "stream",
          "text": [
            "RF w/ parameters Train RMSE: 0.6825570799904598\n"
          ],
          "name": "stdout"
        }
      ]
    },
    {
      "cell_type": "code",
      "metadata": {
        "id": "kizQ782z2WXu",
        "colab_type": "code",
        "outputId": "4280d79d-8d3c-449b-8733-f52513b72019",
        "colab": {
          "base_uri": "https://localhost:8080/",
          "height": 34
        }
      },
      "source": [
        "Y_validPred_RF2 = RF2_reg.predict(X_valid)\n",
        "\n",
        "RF2_validPred_mse = mean_squared_error(Y_valid, Y_validPred_RF2)\n",
        "RF2_validPred_rmse = np.sqrt(RF2_validPred_mse)\n",
        "\n",
        "print(\"RF w/ parameters Validation RMSE:\", RF2_validPred_rmse)"
      ],
      "execution_count": 43,
      "outputs": [
        {
          "output_type": "stream",
          "text": [
            "RF w/ parameters Validation RMSE: 0.7073539647191357\n"
          ],
          "name": "stdout"
        }
      ]
    },
    {
      "cell_type": "code",
      "metadata": {
        "id": "KxiHaP_k2No4",
        "colab_type": "code",
        "outputId": "d349d1fd-afb6-4c1a-aae1-49fbd4921c6e",
        "colab": {
          "base_uri": "https://localhost:8080/",
          "height": 292
        }
      },
      "source": [
        "RF2_scores = cross_val_score(RF2_reg, nycAB_ready, nycAB_imputed_target, scoring=\"neg_mean_squared_error\", cv=6)\n",
        "RF2_rmse_scores = np.sqrt(-RF2_scores)\n",
        " \n",
        "display_scores(RF2_rmse_scores)"
      ],
      "execution_count": 44,
      "outputs": [
        {
          "output_type": "stream",
          "text": [
            "/usr/local/lib/python3.6/dist-packages/sklearn/model_selection/_validation.py:515: DataConversionWarning: A column-vector y was passed when a 1d array was expected. Please change the shape of y to (n_samples,), for example using ravel().\n",
            "  estimator.fit(X_train, y_train, **fit_params)\n",
            "/usr/local/lib/python3.6/dist-packages/sklearn/model_selection/_validation.py:515: DataConversionWarning: A column-vector y was passed when a 1d array was expected. Please change the shape of y to (n_samples,), for example using ravel().\n",
            "  estimator.fit(X_train, y_train, **fit_params)\n",
            "/usr/local/lib/python3.6/dist-packages/sklearn/model_selection/_validation.py:515: DataConversionWarning: A column-vector y was passed when a 1d array was expected. Please change the shape of y to (n_samples,), for example using ravel().\n",
            "  estimator.fit(X_train, y_train, **fit_params)\n",
            "/usr/local/lib/python3.6/dist-packages/sklearn/model_selection/_validation.py:515: DataConversionWarning: A column-vector y was passed when a 1d array was expected. Please change the shape of y to (n_samples,), for example using ravel().\n",
            "  estimator.fit(X_train, y_train, **fit_params)\n",
            "/usr/local/lib/python3.6/dist-packages/sklearn/model_selection/_validation.py:515: DataConversionWarning: A column-vector y was passed when a 1d array was expected. Please change the shape of y to (n_samples,), for example using ravel().\n",
            "  estimator.fit(X_train, y_train, **fit_params)\n",
            "/usr/local/lib/python3.6/dist-packages/sklearn/model_selection/_validation.py:515: DataConversionWarning: A column-vector y was passed when a 1d array was expected. Please change the shape of y to (n_samples,), for example using ravel().\n",
            "  estimator.fit(X_train, y_train, **fit_params)\n"
          ],
          "name": "stderr"
        },
        {
          "output_type": "stream",
          "text": [
            "Scores: [0.68091343 0.68317891 0.70198945 0.69707887 0.66678066 0.6840463 ]\n",
            "Mean: 0.6856646034113484\n",
            "Standard deviation: 0.011436496171292011\n"
          ],
          "name": "stdout"
        }
      ]
    },
    {
      "cell_type": "markdown",
      "metadata": {
        "id": "p3wYbZh6eZoe",
        "colab_type": "text"
      },
      "source": [
        "## **Voting Regressor**\n",
        "The following regressions will be used in Voting Regressions \n",
        "\n",
        "*   Linear Regression (lin1_reg)\n",
        "*   kNN (kNN1_reg)\n",
        "*   SVM w/ polynomial kernel (svmPoly1_reg)\n",
        "*   Random Forest (RF2_reg)\n"
      ]
    },
    {
      "cell_type": "code",
      "metadata": {
        "id": "_fr5gDnkeeg3",
        "colab_type": "code",
        "outputId": "bcebe3c9-7cce-4edb-9b31-817a4b7cb404",
        "colab": {
          "base_uri": "https://localhost:8080/",
          "height": 68
        }
      },
      "source": [
        "from sklearn.ensemble import VotingRegressor\n",
        "voting1_reg = VotingRegressor(\n",
        "    estimators = [('lr', lin1_reg), ('kNN', kNN1_reg), ('svmPoly', svmPoly1_reg), ('RF', RF2_reg)])\n",
        "\n",
        "voting1_reg.fit(X_trRed, Y_trRed)\n",
        "\n",
        "Y_trPred_voting1 = voting1_reg.predict(X_trRed)\n",
        "voting1_trPred_mse = mean_squared_error(Y_trRed, Y_trPred_voting1)\n",
        "voting1_trPred_rmse = np.sqrt(voting1_trPred_mse)\n",
        "\n",
        "print(\"Voting Regression Train RMSE:\", voting1_trPred_rmse)"
      ],
      "execution_count": 48,
      "outputs": [
        {
          "output_type": "stream",
          "text": [
            "/usr/local/lib/python3.6/dist-packages/sklearn/ensemble/_voting.py:406: DataConversionWarning: A column-vector y was passed when a 1d array was expected. Please change the shape of y to (n_samples, ), for example using ravel().\n",
            "  y = column_or_1d(y, warn=True)\n"
          ],
          "name": "stderr"
        },
        {
          "output_type": "stream",
          "text": [
            "Voting Regression Train RMSE: 0.6104252386890783\n"
          ],
          "name": "stdout"
        }
      ]
    },
    {
      "cell_type": "code",
      "metadata": {
        "id": "k7f8Iy6mefft",
        "colab_type": "code",
        "outputId": "4d157e27-cb4f-41b7-f112-653eca7fed94",
        "colab": {
          "base_uri": "https://localhost:8080/",
          "height": 34
        }
      },
      "source": [
        "Y_validPred_voting1 = voting1_reg.predict(X_valid)\n",
        "\n",
        "voting1_validPred_mse = mean_squared_error(Y_valid, Y_validPred_voting1)\n",
        "voting1_validPred_rmse = np.sqrt(voting1_validPred_mse)\n",
        "\n",
        "print(\"voting1 Validation RMSE:\", voting1_validPred_rmse)"
      ],
      "execution_count": 49,
      "outputs": [
        {
          "output_type": "stream",
          "text": [
            "voting1 Validation RMSE: 0.665955584955596\n"
          ],
          "name": "stdout"
        }
      ]
    },
    {
      "cell_type": "code",
      "metadata": {
        "id": "uVMhuPswefHs",
        "colab_type": "code",
        "outputId": "8eb28aab-5cc9-4845-9e30-81085b03024b",
        "colab": {
          "base_uri": "https://localhost:8080/",
          "height": 272
        }
      },
      "source": [
        "voting1_scores = cross_val_score(voting1_reg, nycAB_ready, nycAB_imputed_target, scoring=\"neg_mean_squared_error\", cv=6)\n",
        "voting1_rmse_scores = np.sqrt(-voting1_scores)\n",
        " \n",
        "display_scores(voting1_rmse_scores)"
      ],
      "execution_count": 50,
      "outputs": [
        {
          "output_type": "stream",
          "text": [
            "/usr/local/lib/python3.6/dist-packages/sklearn/ensemble/_voting.py:406: DataConversionWarning: A column-vector y was passed when a 1d array was expected. Please change the shape of y to (n_samples, ), for example using ravel().\n",
            "  y = column_or_1d(y, warn=True)\n",
            "/usr/local/lib/python3.6/dist-packages/sklearn/ensemble/_voting.py:406: DataConversionWarning: A column-vector y was passed when a 1d array was expected. Please change the shape of y to (n_samples, ), for example using ravel().\n",
            "  y = column_or_1d(y, warn=True)\n",
            "/usr/local/lib/python3.6/dist-packages/sklearn/ensemble/_voting.py:406: DataConversionWarning: A column-vector y was passed when a 1d array was expected. Please change the shape of y to (n_samples, ), for example using ravel().\n",
            "  y = column_or_1d(y, warn=True)\n",
            "/usr/local/lib/python3.6/dist-packages/sklearn/ensemble/_voting.py:406: DataConversionWarning: A column-vector y was passed when a 1d array was expected. Please change the shape of y to (n_samples, ), for example using ravel().\n",
            "  y = column_or_1d(y, warn=True)\n",
            "/usr/local/lib/python3.6/dist-packages/sklearn/ensemble/_voting.py:406: DataConversionWarning: A column-vector y was passed when a 1d array was expected. Please change the shape of y to (n_samples, ), for example using ravel().\n",
            "  y = column_or_1d(y, warn=True)\n",
            "/usr/local/lib/python3.6/dist-packages/sklearn/ensemble/_voting.py:406: DataConversionWarning: A column-vector y was passed when a 1d array was expected. Please change the shape of y to (n_samples, ), for example using ravel().\n",
            "  y = column_or_1d(y, warn=True)\n"
          ],
          "name": "stderr"
        },
        {
          "output_type": "stream",
          "text": [
            "Scores: [0.6386587  0.644272   0.65993866 0.65582505 0.62208668 0.64456403]\n",
            "Mean: 0.6442241874093592\n",
            "Standard deviation: 0.012265712881171323\n"
          ],
          "name": "stdout"
        }
      ]
    },
    {
      "cell_type": "markdown",
      "metadata": {
        "id": "mX_rTGweekV4",
        "colab_type": "text"
      },
      "source": [
        "## **Bagging and Pasting**\n",
        "\n"
      ]
    },
    {
      "cell_type": "code",
      "metadata": {
        "id": "eMTNntf4emo_",
        "colab_type": "code",
        "outputId": "e63484d2-7df0-4f5d-9776-69b6aa301b4a",
        "colab": {
          "base_uri": "https://localhost:8080/",
          "height": 68
        }
      },
      "source": [
        "from sklearn.ensemble import BaggingRegressor\n",
        "bagging1_reg = BaggingRegressor(\n",
        "    DecisionTreeRegressor(), n_estimators = 100, max_samples = 100, bootstrap = True, n_jobs = - 1\n",
        ")\n",
        "\n",
        "bagging1_reg.fit(X_trRed, Y_trRed)\n",
        "\n",
        "Y_trPred_bagging1 = bagging1_reg.predict(X_trRed)\n",
        "bagging1_trPred_mse = mean_squared_error(Y_trRed, Y_trPred_bagging1)\n",
        "bagging1_trPred_rmse = np.sqrt(bagging1_trPred_mse)\n",
        "\n",
        "print(\"Bagging Regression Train RMSE:\", bagging1_trPred_rmse)"
      ],
      "execution_count": 51,
      "outputs": [
        {
          "output_type": "stream",
          "text": [
            "/usr/local/lib/python3.6/dist-packages/sklearn/ensemble/_bagging.py:399: DataConversionWarning: A column-vector y was passed when a 1d array was expected. Please change the shape of y to (n_samples, ), for example using ravel().\n",
            "  return column_or_1d(y, warn=True)\n"
          ],
          "name": "stderr"
        },
        {
          "output_type": "stream",
          "text": [
            "Bagging Regression Train RMSE: 0.6696952786424688\n"
          ],
          "name": "stdout"
        }
      ]
    },
    {
      "cell_type": "code",
      "metadata": {
        "id": "HBQJk80Yenp8",
        "colab_type": "code",
        "outputId": "96848fc4-214b-45b7-a542-65cbae2b2520",
        "colab": {
          "base_uri": "https://localhost:8080/",
          "height": 34
        }
      },
      "source": [
        "Y_validPred_bagging1 = bagging1_reg.predict(X_valid)\n",
        "\n",
        "bagging1_validPred_mse = mean_squared_error(Y_valid, Y_validPred_bagging1)\n",
        "bagging1_validPred_rmse = np.sqrt(bagging1_validPred_mse)\n",
        "\n",
        "print(\"Bagging Validation RMSE:\", bagging1_validPred_rmse)"
      ],
      "execution_count": 52,
      "outputs": [
        {
          "output_type": "stream",
          "text": [
            "Bagging Validation RMSE: 0.6970172440707876\n"
          ],
          "name": "stdout"
        }
      ]
    },
    {
      "cell_type": "code",
      "metadata": {
        "id": "P_dvI15Tenbe",
        "colab_type": "code",
        "outputId": "90e57e1a-8546-40f1-a5d0-09fb976d66ef",
        "colab": {
          "base_uri": "https://localhost:8080/",
          "height": 272
        }
      },
      "source": [
        "bagging1_scores = cross_val_score(bagging1_reg, nycAB_ready, nycAB_imputed_target, scoring=\"neg_mean_squared_error\", cv=6)\n",
        "bagging1_rmse_scores = np.sqrt(-bagging1_scores)\n",
        " \n",
        "display_scores(bagging1_rmse_scores)"
      ],
      "execution_count": 53,
      "outputs": [
        {
          "output_type": "stream",
          "text": [
            "/usr/local/lib/python3.6/dist-packages/sklearn/ensemble/_bagging.py:399: DataConversionWarning: A column-vector y was passed when a 1d array was expected. Please change the shape of y to (n_samples, ), for example using ravel().\n",
            "  return column_or_1d(y, warn=True)\n",
            "/usr/local/lib/python3.6/dist-packages/sklearn/ensemble/_bagging.py:399: DataConversionWarning: A column-vector y was passed when a 1d array was expected. Please change the shape of y to (n_samples, ), for example using ravel().\n",
            "  return column_or_1d(y, warn=True)\n",
            "/usr/local/lib/python3.6/dist-packages/sklearn/ensemble/_bagging.py:399: DataConversionWarning: A column-vector y was passed when a 1d array was expected. Please change the shape of y to (n_samples, ), for example using ravel().\n",
            "  return column_or_1d(y, warn=True)\n",
            "/usr/local/lib/python3.6/dist-packages/sklearn/ensemble/_bagging.py:399: DataConversionWarning: A column-vector y was passed when a 1d array was expected. Please change the shape of y to (n_samples, ), for example using ravel().\n",
            "  return column_or_1d(y, warn=True)\n",
            "/usr/local/lib/python3.6/dist-packages/sklearn/ensemble/_bagging.py:399: DataConversionWarning: A column-vector y was passed when a 1d array was expected. Please change the shape of y to (n_samples, ), for example using ravel().\n",
            "  return column_or_1d(y, warn=True)\n",
            "/usr/local/lib/python3.6/dist-packages/sklearn/ensemble/_bagging.py:399: DataConversionWarning: A column-vector y was passed when a 1d array was expected. Please change the shape of y to (n_samples, ), for example using ravel().\n",
            "  return column_or_1d(y, warn=True)\n"
          ],
          "name": "stderr"
        },
        {
          "output_type": "stream",
          "text": [
            "Scores: [0.66569151 0.67307698 0.68636586 0.6819669  0.65265382 0.67296002]\n",
            "Mean: 0.6721191828054504\n",
            "Standard deviation: 0.010968022910467515\n"
          ],
          "name": "stdout"
        }
      ]
    },
    {
      "cell_type": "markdown",
      "metadata": {
        "id": "rQnWPhMsh5dN",
        "colab_type": "text"
      },
      "source": [
        "## **Gradient Boosting - XGBoost** --- Vanila"
      ]
    },
    {
      "cell_type": "code",
      "metadata": {
        "id": "JgL1qLdlh2mC",
        "colab_type": "code",
        "outputId": "13b8c8b1-30b2-418e-b7e4-bc5eb0a32bb3",
        "colab": {
          "base_uri": "https://localhost:8080/",
          "height": 51
        }
      },
      "source": [
        "import xgboost as xgb\n",
        "\n",
        "xgb1_reg = xgb.XGBRegressor()\n",
        "xgb1_reg.fit(X_trRed, Y_trRed)\n",
        "\n",
        "Y_trPred_xgb1 = xgb1_reg.predict(X_trRed)\n",
        "xgb1_trPred_mse = mean_squared_error(Y_trRed, Y_trPred_xgb1)\n",
        "xgb1_trPred_rmse = np.sqrt(xgb1_trPred_mse)\n",
        "\n",
        "print(\"XGB Vanila Regression Train RMSE:\", xgb1_trPred_rmse)"
      ],
      "execution_count": 54,
      "outputs": [
        {
          "output_type": "stream",
          "text": [
            "[18:37:40] WARNING: /workspace/src/objective/regression_obj.cu:152: reg:linear is now deprecated in favor of reg:squarederror.\n",
            "XGB Vanila Regression Train RMSE: 0.6289953500708941\n"
          ],
          "name": "stdout"
        }
      ]
    },
    {
      "cell_type": "code",
      "metadata": {
        "id": "vzYdrkkHh-AN",
        "colab_type": "code",
        "outputId": "6a0a1bed-6b20-460f-d87e-60408a002bb6",
        "colab": {
          "base_uri": "https://localhost:8080/",
          "height": 34
        }
      },
      "source": [
        "Y_validPred_xgb1 = xgb1_reg.predict(X_valid)\n",
        "\n",
        "xgb1_validPred_mse = mean_squared_error(Y_valid, Y_validPred_xgb1)\n",
        "xgb1_validPred_rmse = np.sqrt(xgb1_validPred_mse)\n",
        "\n",
        "print(\"XGB Vanila Validation RMSE:\", xgb1_validPred_rmse)"
      ],
      "execution_count": 55,
      "outputs": [
        {
          "output_type": "stream",
          "text": [
            "XGB Vanila Validation RMSE: 0.6557793381635324\n"
          ],
          "name": "stdout"
        }
      ]
    },
    {
      "cell_type": "code",
      "metadata": {
        "id": "04127PaMh-5l",
        "colab_type": "code",
        "outputId": "ae6c5024-6506-4d32-8a77-00085bbf10bf",
        "colab": {
          "base_uri": "https://localhost:8080/",
          "height": 170
        }
      },
      "source": [
        "xgb1_scores = cross_val_score(xgb1_reg, nycAB_ready, nycAB_imputed_target, scoring=\"neg_mean_squared_error\", cv=6)\n",
        "xgb1_rmse_scores = np.sqrt(-xgb1_scores)\n",
        " \n",
        "display_scores(xgb1_rmse_scores)"
      ],
      "execution_count": 56,
      "outputs": [
        {
          "output_type": "stream",
          "text": [
            "[18:37:49] WARNING: /workspace/src/objective/regression_obj.cu:152: reg:linear is now deprecated in favor of reg:squarederror.\n",
            "[18:37:51] WARNING: /workspace/src/objective/regression_obj.cu:152: reg:linear is now deprecated in favor of reg:squarederror.\n",
            "[18:37:53] WARNING: /workspace/src/objective/regression_obj.cu:152: reg:linear is now deprecated in favor of reg:squarederror.\n",
            "[18:37:55] WARNING: /workspace/src/objective/regression_obj.cu:152: reg:linear is now deprecated in favor of reg:squarederror.\n",
            "[18:37:56] WARNING: /workspace/src/objective/regression_obj.cu:152: reg:linear is now deprecated in favor of reg:squarederror.\n",
            "[18:37:58] WARNING: /workspace/src/objective/regression_obj.cu:152: reg:linear is now deprecated in favor of reg:squarederror.\n",
            "Scores: [0.6326556  0.63662044 0.65267554 0.64854479 0.61228828 0.63776281]\n",
            "Mean: 0.6367579111855933\n",
            "Standard deviation: 0.012967406030822448\n"
          ],
          "name": "stdout"
        }
      ]
    },
    {
      "cell_type": "markdown",
      "metadata": {
        "id": "Co5eOsokjIan",
        "colab_type": "text"
      },
      "source": [
        "## **Gradient Boosting - XGBoost** --- with Parameters"
      ]
    },
    {
      "cell_type": "code",
      "metadata": {
        "id": "0viJhQssjJdH",
        "colab_type": "code",
        "outputId": "c629a995-ceed-488c-d8c4-2ce143f83ffc",
        "colab": {
          "base_uri": "https://localhost:8080/",
          "height": 51
        }
      },
      "source": [
        "xgb2_reg = xgb.XGBRegressor(max_depth=4, learning_rate = 0.1, n_estimators=200, booster = 'gbtree')\n",
        "xgb2_reg.fit(X_trRed, Y_trRed)\n",
        "\n",
        "Y_trPred_xgb2 = xgb2_reg.predict(X_trRed)\n",
        "xgb2_trPred_mse = mean_squared_error(Y_trRed, Y_trPred_xgb2)\n",
        "xgb2_trPred_rmse = np.sqrt(xgb2_trPred_mse)\n",
        "\n",
        "print(\"XGB2 Regression Train RMSE:\", xgb2_trPred_rmse)"
      ],
      "execution_count": 57,
      "outputs": [
        {
          "output_type": "stream",
          "text": [
            "[18:38:06] WARNING: /workspace/src/objective/regression_obj.cu:152: reg:linear is now deprecated in favor of reg:squarederror.\n",
            "XGB2 Regression Train RMSE: 0.605860401908973\n"
          ],
          "name": "stdout"
        }
      ]
    },
    {
      "cell_type": "code",
      "metadata": {
        "id": "2PKpG-mhjIz2",
        "colab_type": "code",
        "outputId": "0c5d8331-b27d-46da-a497-db8c88198f3d",
        "colab": {
          "base_uri": "https://localhost:8080/",
          "height": 34
        }
      },
      "source": [
        "Y_validPred_xgb2 = xgb2_reg.predict(X_valid)\n",
        "\n",
        "xgb2_validPred_mse = mean_squared_error(Y_valid, Y_validPred_xgb2)\n",
        "xgb2_validPred_rmse = np.sqrt(xgb2_validPred_mse)\n",
        "\n",
        "print(\"XGB2 Validation RMSE:\", xgb2_validPred_rmse)"
      ],
      "execution_count": 58,
      "outputs": [
        {
          "output_type": "stream",
          "text": [
            "XGB2 Validation RMSE: 0.6461874451978745\n"
          ],
          "name": "stdout"
        }
      ]
    },
    {
      "cell_type": "code",
      "metadata": {
        "id": "IJ7t0rOjjICl",
        "colab_type": "code",
        "outputId": "407fc310-750a-40a9-8776-ff2597f58925",
        "colab": {
          "base_uri": "https://localhost:8080/",
          "height": 170
        }
      },
      "source": [
        "xgb2_scores = cross_val_score(xgb2_reg, nycAB_ready, nycAB_imputed_target, scoring=\"neg_mean_squared_error\", cv=6)\n",
        "xgb2_rmse_scores = np.sqrt(-xgb2_scores)\n",
        " \n",
        "display_scores(xgb2_rmse_scores)"
      ],
      "execution_count": 59,
      "outputs": [
        {
          "output_type": "stream",
          "text": [
            "[18:38:20] WARNING: /workspace/src/objective/regression_obj.cu:152: reg:linear is now deprecated in favor of reg:squarederror.\n",
            "[18:38:24] WARNING: /workspace/src/objective/regression_obj.cu:152: reg:linear is now deprecated in favor of reg:squarederror.\n",
            "[18:38:29] WARNING: /workspace/src/objective/regression_obj.cu:152: reg:linear is now deprecated in favor of reg:squarederror.\n",
            "[18:38:33] WARNING: /workspace/src/objective/regression_obj.cu:152: reg:linear is now deprecated in favor of reg:squarederror.\n",
            "[18:38:37] WARNING: /workspace/src/objective/regression_obj.cu:152: reg:linear is now deprecated in favor of reg:squarederror.\n",
            "[18:38:42] WARNING: /workspace/src/objective/regression_obj.cu:152: reg:linear is now deprecated in favor of reg:squarederror.\n",
            "Scores: [0.62262961 0.62962516 0.64479525 0.64077438 0.60583447 0.63087602]\n",
            "Mean: 0.6290891494587402\n",
            "Standard deviation: 0.012709658347000469\n"
          ],
          "name": "stdout"
        }
      ]
    },
    {
      "cell_type": "markdown",
      "metadata": {
        "id": "o9YOvKD0gKcy",
        "colab_type": "text"
      },
      "source": [
        "# **Choosing 4-6 Promising Models and Fine-tune those models with the help of GridSearchCV**"
      ]
    },
    {
      "cell_type": "code",
      "metadata": {
        "id": "icmGAcSwv5r2",
        "colab_type": "code",
        "colab": {}
      },
      "source": [
        "from sklearn.model_selection import GridSearchCV"
      ],
      "execution_count": 0,
      "outputs": []
    },
    {
      "cell_type": "markdown",
      "metadata": {
        "id": "l3bclGBVgcO7",
        "colab_type": "text"
      },
      "source": [
        "## **RandomForest**"
      ]
    },
    {
      "cell_type": "code",
      "metadata": {
        "id": "EuF_LdiDhJgr",
        "colab_type": "code",
        "colab": {}
      },
      "source": [
        "param_grid_RF3 = [\n",
        "    {'n_estimators': [10, 50], 'max_depth' : [3,6], 'min_samples_split' : [2,4], 'max_features' : [3,6]},\n",
        "    {'bootstrap': [False], 'n_estimators': [10, 50], 'max_depth' : [3,6], 'min_samples_split' : [2,4], 'max_features' : [3,6]},\n",
        "]\n",
        "\n",
        "RF3_reg = RandomForestRegressor()\n",
        "\n",
        "grid_search_RF3 = GridSearchCV(RF3_reg, param_grid_RF3, cv=6, scoring='neg_mean_squared_error', return_train_score=True)\n",
        "\n",
        "grid_search_RF3.fit(nycAB_ready, nycAB_imputed_target)"
      ],
      "execution_count": 0,
      "outputs": []
    },
    {
      "cell_type": "code",
      "metadata": {
        "id": "7NJ_FPa00vr2",
        "colab_type": "code",
        "outputId": "9c10d54f-21ef-446f-d066-b8ac377e6044",
        "colab": {
          "base_uri": "https://localhost:8080/",
          "height": 170
        }
      },
      "source": [
        "print(grid_search_RF3.best_params_)\n",
        "print()\n",
        "print(grid_search_RF3.best_estimator_)"
      ],
      "execution_count": 67,
      "outputs": [
        {
          "output_type": "stream",
          "text": [
            "{'max_depth': 6, 'max_features': 6, 'min_samples_split': 2, 'n_estimators': 50}\n",
            "\n",
            "RandomForestRegressor(bootstrap=True, ccp_alpha=0.0, criterion='mse',\n",
            "                      max_depth=6, max_features=6, max_leaf_nodes=None,\n",
            "                      max_samples=None, min_impurity_decrease=0.0,\n",
            "                      min_impurity_split=None, min_samples_leaf=1,\n",
            "                      min_samples_split=2, min_weight_fraction_leaf=0.0,\n",
            "                      n_estimators=50, n_jobs=None, oob_score=False,\n",
            "                      random_state=None, verbose=0, warm_start=False)\n"
          ],
          "name": "stdout"
        }
      ]
    },
    {
      "cell_type": "code",
      "metadata": {
        "id": "Q3R3wLF602Kk",
        "colab_type": "code",
        "outputId": "fbf15f94-27d9-40cf-9edd-82ce5fd94cc7",
        "colab": {
          "base_uri": "https://localhost:8080/",
          "height": 34
        }
      },
      "source": [
        "cvRes_RF3 = grid_search_RF3.cv_results_\n",
        "for mean_score, params in zip(cvRes_RF3[\"mean_test_score\"], cvRes_RF3[\"params\"]):\n",
        "  if params == grid_search_RF3.best_params_:\n",
        "    print(np.sqrt(-mean_score), params) #206.78076493823684"
      ],
      "execution_count": 68,
      "outputs": [
        {
          "output_type": "stream",
          "text": [
            "0.653650907163234 {'max_depth': 6, 'max_features': 6, 'min_samples_split': 2, 'n_estimators': 50}\n"
          ],
          "name": "stdout"
        }
      ]
    },
    {
      "cell_type": "markdown",
      "metadata": {
        "id": "IFgvOhFwDmwV",
        "colab_type": "text"
      },
      "source": [
        "## **Regularized Linear Regression** w/ SGD "
      ]
    },
    {
      "cell_type": "code",
      "metadata": {
        "id": "huGnAmE0FHuw",
        "colab_type": "code",
        "colab": {}
      },
      "source": [
        "param_grid_sgd2 = [\n",
        "    {'loss' : ['squared_loss', 'huber', 'epsilon_insensitive'], 'penalty' : ['l2', 'l1', 'elasticnet'], 'alpha': [0.0001, 0.005, 0.1, 1],\n",
        "     'epsilon' : [0.1, 0.01], 'random_state' : [randState], 'eta0' : [0.1, 0.01]},\n",
        "]\n",
        "\n",
        "sgd2_reg = SGDRegressor()\n",
        "grid_search_sgd2 = GridSearchCV(sgd2_reg, param_grid_sgd2, cv=6, scoring='neg_mean_squared_error', return_train_score=True)\n",
        "grid_search_sgd2.fit(nycAB_ready, nycAB_imputed_target)"
      ],
      "execution_count": 0,
      "outputs": []
    },
    {
      "cell_type": "code",
      "metadata": {
        "id": "o7xps0_HMmBK",
        "colab_type": "code",
        "outputId": "fb1b7c42-6f75-41f7-9b07-b9d8c464d995",
        "colab": {
          "base_uri": "https://localhost:8080/",
          "height": 153
        }
      },
      "source": [
        "print(grid_search_sgd2.best_params_)\n",
        "print()\n",
        "print(grid_search_sgd2.best_estimator_)"
      ],
      "execution_count": 70,
      "outputs": [
        {
          "output_type": "stream",
          "text": [
            "{'alpha': 0.0001, 'epsilon': 0.1, 'eta0': 0.01, 'loss': 'squared_loss', 'penalty': 'l2', 'random_state': 69}\n",
            "\n",
            "SGDRegressor(alpha=0.0001, average=False, early_stopping=False, epsilon=0.1,\n",
            "             eta0=0.01, fit_intercept=True, l1_ratio=0.15,\n",
            "             learning_rate='invscaling', loss='squared_loss', max_iter=1000,\n",
            "             n_iter_no_change=5, penalty='l2', power_t=0.25, random_state=69,\n",
            "             shuffle=True, tol=0.001, validation_fraction=0.1, verbose=0,\n",
            "             warm_start=False)\n"
          ],
          "name": "stdout"
        }
      ]
    },
    {
      "cell_type": "code",
      "metadata": {
        "id": "c9GvhbH7MokQ",
        "colab_type": "code",
        "outputId": "6c8873c6-51aa-4d87-9242-4b596fa3bb7b",
        "colab": {
          "base_uri": "https://localhost:8080/",
          "height": 34
        }
      },
      "source": [
        "cvRes_sgd2 = grid_search_sgd2.cv_results_\n",
        "for mean_score, params in zip(cvRes_sgd2[\"mean_test_score\"], cvRes_sgd2[\"params\"]):\n",
        "  if params == grid_search_sgd2.best_params_:\n",
        "    print(np.sqrt(-mean_score), params) #212.22885387569934 (Actually a slightly worse than the barely parametrized sgd1)"
      ],
      "execution_count": 71,
      "outputs": [
        {
          "output_type": "stream",
          "text": [
            "0.6801556394235344 {'alpha': 0.0001, 'epsilon': 0.1, 'eta0': 0.01, 'loss': 'squared_loss', 'penalty': 'l2', 'random_state': 69}\n"
          ],
          "name": "stdout"
        }
      ]
    },
    {
      "cell_type": "markdown",
      "metadata": {
        "id": "TtWVQhplTBbC",
        "colab_type": "text"
      },
      "source": [
        "## **Bagging and Pasting** \n"
      ]
    },
    {
      "cell_type": "code",
      "metadata": {
        "id": "NI0ppyaTTOs2",
        "colab_type": "code",
        "colab": {}
      },
      "source": [
        "param_grid_bag2 = [\n",
        "    {'base_estimator': [SVR(), DecisionTreeRegressor()], 'n_estimators': [10, 50, 100], 'max_features' : [2,6], 'max_samples' : [1,10,100], 'random_state' : [randState]},\n",
        "    {'bootstrap': [False], 'base_estimator': [SVR(), DecisionTreeRegressor()], 'n_estimators': [10, 50, 100], 'max_features' : [2,6], 'max_samples' : [1,10,100], 'random_state' : [randState]},\n",
        "] \n",
        "\n",
        "bag2_reg = BaggingRegressor()\n",
        "\n",
        "grid_search_bag2 = GridSearchCV(bag2_reg, param_grid_bag2, cv=6, scoring='neg_mean_squared_error', return_train_score=True)\n",
        "\n",
        "grid_search_bag2.fit(nycAB_ready, nycAB_imputed_target)"
      ],
      "execution_count": 0,
      "outputs": []
    },
    {
      "cell_type": "code",
      "metadata": {
        "id": "RDTfcammTOgn",
        "colab_type": "code",
        "outputId": "42721501-7890-42f8-8b0d-b17083f22efd",
        "colab": {
          "base_uri": "https://localhost:8080/",
          "height": 408
        }
      },
      "source": [
        "print(grid_search_bag2.best_params_)\n",
        "print()\n",
        "print(grid_search_bag2.best_estimator_)"
      ],
      "execution_count": 73,
      "outputs": [
        {
          "output_type": "stream",
          "text": [
            "{'base_estimator': DecisionTreeRegressor(ccp_alpha=0.0, criterion='mse', max_depth=None,\n",
            "                      max_features=None, max_leaf_nodes=None,\n",
            "                      min_impurity_decrease=0.0, min_impurity_split=None,\n",
            "                      min_samples_leaf=1, min_samples_split=2,\n",
            "                      min_weight_fraction_leaf=0.0, presort='deprecated',\n",
            "                      random_state=None, splitter='best'), 'max_features': 6, 'max_samples': 100, 'n_estimators': 100, 'random_state': 69}\n",
            "\n",
            "BaggingRegressor(base_estimator=DecisionTreeRegressor(ccp_alpha=0.0,\n",
            "                                                      criterion='mse',\n",
            "                                                      max_depth=None,\n",
            "                                                      max_features=None,\n",
            "                                                      max_leaf_nodes=None,\n",
            "                                                      min_impurity_decrease=0.0,\n",
            "                                                      min_impurity_split=None,\n",
            "                                                      min_samples_leaf=1,\n",
            "                                                      min_samples_split=2,\n",
            "                                                      min_weight_fraction_leaf=0.0,\n",
            "                                                      presort='deprecated',\n",
            "                                                      random_state=None,\n",
            "                                                      splitter='best'),\n",
            "                 bootstrap=True, bootstrap_features=False, max_features=6,\n",
            "                 max_samples=100, n_estimators=100, n_jobs=None,\n",
            "                 oob_score=False, random_state=69, verbose=0, warm_start=False)\n"
          ],
          "name": "stdout"
        }
      ]
    },
    {
      "cell_type": "code",
      "metadata": {
        "id": "Ms6yEFXETOTQ",
        "colab_type": "code",
        "outputId": "00594c1f-35e3-421b-e2d5-2d292807b710",
        "colab": {
          "base_uri": "https://localhost:8080/",
          "height": 119
        }
      },
      "source": [
        "cvRes_bag2 = grid_search_bag2.cv_results_\n",
        "for mean_score, params in zip(cvRes_bag2[\"mean_test_score\"], cvRes_bag2[\"params\"]):\n",
        "  if params == grid_search_bag2.best_params_:\n",
        "    print(np.sqrt(-mean_score), params) #Worse than what we could ahived when we did it in bagging1"
      ],
      "execution_count": 74,
      "outputs": [
        {
          "output_type": "stream",
          "text": [
            "0.7072549143430154 {'base_estimator': DecisionTreeRegressor(ccp_alpha=0.0, criterion='mse', max_depth=None,\n",
            "                      max_features=None, max_leaf_nodes=None,\n",
            "                      min_impurity_decrease=0.0, min_impurity_split=None,\n",
            "                      min_samples_leaf=1, min_samples_split=2,\n",
            "                      min_weight_fraction_leaf=0.0, presort='deprecated',\n",
            "                      random_state=None, splitter='best'), 'max_features': 6, 'max_samples': 100, 'n_estimators': 100, 'random_state': 69}\n"
          ],
          "name": "stdout"
        }
      ]
    },
    {
      "cell_type": "markdown",
      "metadata": {
        "id": "8bnMK_lggmF6",
        "colab_type": "text"
      },
      "source": [
        "## **Gradient Boosting - XGBoost** --- with Parameters"
      ]
    },
    {
      "cell_type": "code",
      "metadata": {
        "id": "fFigE37sglPa",
        "colab_type": "code",
        "colab": {}
      },
      "source": [
        "param_grid_xgb3 = [\n",
        "    {'booster': ['gbtree'], 'eta': [0.03, 0.3], 'max_depth' : [3,6], 'gamma' : [0,10,100], 'max_features' : [3,6], 'subsample': [0.6, 0.9]},\n",
        "    #{'booster': ['gblinear'], 'updater': ['shotgun', 'coord_descent'], 'feature_selector' : ['cyclic', 'shuffle']},\n",
        "    #{'booster': ['gblinear'],  'updater': ['shotgun', 'coord_descent'], 'feature_selector' : ['thrifty', 'greedy'], 'top_k' : [0, 2, 3]}\n",
        "]\n",
        "\n",
        "xgb3_reg = xgb.XGBRegressor()\n",
        "\n",
        "grid_search_xgb3 = GridSearchCV(xgb3_reg, param_grid_xgb3, cv=6, scoring='neg_mean_squared_error', return_train_score=True)\n",
        "\n",
        "grid_search_xgb3.fit(nycAB_ready, nycAB_imputed_target)"
      ],
      "execution_count": 0,
      "outputs": []
    },
    {
      "cell_type": "code",
      "metadata": {
        "id": "UFiXFC4himTX",
        "colab_type": "code",
        "outputId": "8c043e30-4ff3-45c5-bf63-50851b06670d",
        "colab": {
          "base_uri": "https://localhost:8080/",
          "height": 170
        }
      },
      "source": [
        "print(grid_search_xgb3.best_params_)\n",
        "print()\n",
        "print(grid_search_xgb3.best_estimator_)"
      ],
      "execution_count": 78,
      "outputs": [
        {
          "output_type": "stream",
          "text": [
            "{'booster': 'gbtree', 'eta': 0.03, 'gamma': 0, 'max_depth': 6, 'max_features': 3, 'subsample': 0.9}\n",
            "\n",
            "XGBRegressor(base_score=0.5, booster='gbtree', colsample_bylevel=1,\n",
            "             colsample_bynode=1, colsample_bytree=1, eta=0.03, gamma=0,\n",
            "             importance_type='gain', learning_rate=0.1, max_delta_step=0,\n",
            "             max_depth=6, max_features=3, min_child_weight=1, missing=None,\n",
            "             n_estimators=100, n_jobs=1, nthread=None, objective='reg:linear',\n",
            "             random_state=0, reg_alpha=0, reg_lambda=1, scale_pos_weight=1,\n",
            "             seed=None, silent=None, subsample=0.9, verbosity=1)\n"
          ],
          "name": "stdout"
        }
      ]
    },
    {
      "cell_type": "code",
      "metadata": {
        "id": "SbnF_GgDimEp",
        "colab_type": "code",
        "outputId": "a21dc40f-4d51-4b3f-880c-f3b151660e3c",
        "colab": {
          "base_uri": "https://localhost:8080/",
          "height": 34
        }
      },
      "source": [
        "cvRes_xgb3 = grid_search_xgb3.cv_results_\n",
        "for mean_score, params in zip(cvRes_xgb3[\"mean_test_score\"], cvRes_xgb3[\"params\"]):\n",
        "  if params == grid_search_xgb3.best_params_:\n",
        "    print(np.sqrt(-mean_score), params) #Worse than what we could ahived when we did it in bagging1"
      ],
      "execution_count": 79,
      "outputs": [
        {
          "output_type": "stream",
          "text": [
            "0.6249506128312856 {'booster': 'gbtree', 'eta': 0.03, 'gamma': 0, 'max_depth': 6, 'max_features': 3, 'subsample': 0.9}\n"
          ],
          "name": "stdout"
        }
      ]
    },
    {
      "cell_type": "markdown",
      "metadata": {
        "id": "rso-qxmEvKlx",
        "colab_type": "text"
      },
      "source": [
        "The Winner is the XGBoost."
      ]
    },
    {
      "cell_type": "markdown",
      "metadata": {
        "id": "sbNFyjlgcR4q",
        "colab_type": "text"
      },
      "source": [
        "# **Last Steps** "
      ]
    },
    {
      "cell_type": "code",
      "metadata": {
        "id": "Gkq2UD08wVr-",
        "colab_type": "code",
        "colab": {}
      },
      "source": [
        "final_model = grid_search_xgb3.best_estimator_"
      ],
      "execution_count": 0,
      "outputs": []
    },
    {
      "cell_type": "markdown",
      "metadata": {
        "id": "ojNRq7x9bjvD",
        "colab_type": "text"
      },
      "source": [
        "## **Running the final, selected model on the Test Set**"
      ]
    },
    {
      "cell_type": "code",
      "metadata": {
        "id": "ksKH_smcVt1F",
        "colab_type": "code",
        "colab": {}
      },
      "source": [
        "X_test = stratified_test_set.copy()\n",
        "X_test = stratified_test_set.drop('price', axis=1)\n",
        "Y_test = pd.DataFrame(stratified_test_set, columns= [\"price\"])\n",
        "\n",
        "dropList = ['name','host_name','last_review','host_id', 'neighbourhood', 'id']\n",
        "desired_cat_attr = ['neighbourhood_group', 'room_type']\n",
        "boolVar = True\n",
        "\n",
        "x_test_ready, y_test_ready, _, _ = df_proccessed(X_test, Y_test, dropList, desired_cat_attr, boolVar, full_pipeline=fittedColumnTransform, pT=targetTransform)    #Test Set imputation and transformation "
      ],
      "execution_count": 0,
      "outputs": []
    },
    {
      "cell_type": "code",
      "metadata": {
        "id": "pLDSBGObqw-G",
        "colab_type": "code",
        "outputId": "76ed96d7-f7b7-4104-d1f6-b285b9143670",
        "colab": {
          "base_uri": "https://localhost:8080/",
          "height": 34
        }
      },
      "source": [
        "final_pred = final_model.predict(x_test_ready)\n",
        "\n",
        "final_mse = mean_squared_error(y_test_ready, final_pred)\n",
        "final_rmse = np.sqrt(final_mse)\n",
        "print(final_rmse) #0.6438339121694955"
      ],
      "execution_count": 82,
      "outputs": [
        {
          "output_type": "stream",
          "text": [
            "0.6438339121694955\n"
          ],
          "name": "stdout"
        }
      ]
    }
  ]
}